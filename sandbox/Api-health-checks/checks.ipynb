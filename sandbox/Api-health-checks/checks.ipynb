{
 "cells": [
  {
   "cell_type": "code",
   "execution_count": 1,
   "metadata": {},
   "outputs": [],
   "source": [
    "import time\n",
    "from huggingface_hub import login\n",
    "import requests\n",
    "from requests.adapters import HTTPAdapter\n",
    "import threading"
   ]
  },
  {
   "cell_type": "code",
   "execution_count": 2,
   "metadata": {},
   "outputs": [],
   "source": [
    "session = requests.Session()\n",
    "\n",
    "API_URL = \"http://127.0.0.1:5000/peticion_larga\"\n",
    "HEALTH_URL = \"http://127.0.0.1:5000/health\"\n",
    "headers = {}\n",
    "retries = 0\n",
    "adapter = HTTPAdapter(max_retries=retries)\n",
    "session.mount('http://', adapter)\n",
    "session.mount('http://', adapter)"
   ]
  },
  {
   "cell_type": "code",
   "execution_count": 4,
   "metadata": {},
   "outputs": [
    {
     "name": "stdout",
     "output_type": "stream",
     "text": [
      "fuera\n"
     ]
    }
   ],
   "source": [
    "try:\n",
    "    session.get(HEALTH_URL)\n",
    "except:\n",
    "    print(\"fuera\")"
   ]
  },
  {
   "cell_type": "code",
   "execution_count": 17,
   "metadata": {},
   "outputs": [
    {
     "name": "stdout",
     "output_type": "stream",
     "text": [
      "loading\n"
     ]
    }
   ],
   "source": [
    "global health\n",
    "health = \"loading\"\n",
    "def print_health():\n",
    "    for i in range(30):\n",
    "        print(health)\n",
    "        time.sleep(2)\n",
    "threading.Thread(target=print_health).start()"
   ]
  },
  {
   "cell_type": "code",
   "execution_count": 18,
   "metadata": {},
   "outputs": [
    {
     "name": "stdout",
     "output_type": "stream",
     "text": [
      "dentro available\n"
     ]
    },
    {
     "name": "stdout",
     "output_type": "stream",
     "text": [
      "available\n",
      "dentro available\n",
      "available\n",
      "dentro available\n",
      "available\n",
      "dentro available\n",
      "available\n",
      "dentro available\n"
     ]
    }
   ],
   "source": [
    "def health_checlk():\n",
    "    for i in range(30):\n",
    "        response = session.get(HEALTH_URL, headers=headers)\n",
    "        global health\n",
    "        health = response.json()[\"status\"]\n",
    "        print(\"dentro\", health)\n",
    "        time.sleep(2)\n",
    "threading.Thread(target=health_checlk).start()"
   ]
  },
  {
   "cell_type": "code",
   "execution_count": 19,
   "metadata": {},
   "outputs": [
    {
     "name": "stdout",
     "output_type": "stream",
     "text": [
      "available\n",
      "dentro loading\n",
      "loading\n",
      "dentro loading\n",
      "loading\n",
      "dentro loading\n",
      "loading\n",
      "dentro loading\n",
      "loading\n",
      "dentro loading\n",
      "loading\n",
      "dentro loading\n",
      "loading\n",
      "dentro loading\n"
     ]
    },
    {
     "data": {
      "text/plain": [
       "'prueba'"
      ]
     },
     "execution_count": 19,
     "metadata": {},
     "output_type": "execute_result"
    },
    {
     "name": "stdout",
     "output_type": "stream",
     "text": [
      "loading\n",
      "dentro available\n",
      "available\n",
      "dentro available\n",
      "available\n",
      "dentro available\n",
      "available\n",
      "dentro available\n",
      "available\n",
      "dentro available\n",
      "available\n",
      "dentro available\n",
      "available\n",
      "dentro available\n",
      "available\n",
      "dentro available\n",
      "available\n",
      "dentro available\n",
      "available\n",
      "dentro available\n",
      "available\n",
      "dentro available\n",
      "available\n",
      "dentro available\n",
      "available\n",
      "dentro available\n",
      "available\n",
      "dentro available\n",
      "available\n",
      "dentro available\n",
      "available\n",
      "dentro available\n",
      "available\n",
      "dentro available\n",
      "available\n",
      "dentro available\n"
     ]
    }
   ],
   "source": [
    "def message():\n",
    "    response = session.get(API_URL, headers=headers)\n",
    "    respuesta = response.json()[\"respuesta\"]\n",
    "    return respuesta\n",
    "\n",
    "message()"
   ]
  },
  {
   "cell_type": "code",
   "execution_count": null,
   "metadata": {},
   "outputs": [],
   "source": []
  }
 ],
 "metadata": {
  "kernelspec": {
   "display_name": "Python 3",
   "language": "python",
   "name": "python3"
  },
  "language_info": {
   "codemirror_mode": {
    "name": "ipython",
    "version": 3
   },
   "file_extension": ".py",
   "mimetype": "text/x-python",
   "name": "python",
   "nbconvert_exporter": "python",
   "pygments_lexer": "ipython3",
   "version": "3.10.12"
  }
 },
 "nbformat": 4,
 "nbformat_minor": 2
}
