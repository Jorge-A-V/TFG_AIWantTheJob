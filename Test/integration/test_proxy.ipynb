{
 "cells": [
  {
   "cell_type": "markdown",
   "metadata": {},
   "source": [
    "# Test del Uso intencionado del Proxy"
   ]
  },
  {
   "cell_type": "code",
   "execution_count": 1,
   "metadata": {},
   "outputs": [],
   "source": [
    "import sys\n",
    "\n",
    "# importamos el modulo de funciones\n",
    "sys.path.append(\"../..\")"
   ]
  },
  {
   "cell_type": "code",
   "execution_count": 2,
   "metadata": {},
   "outputs": [
    {
     "name": "stderr",
     "output_type": "stream",
     "text": [
      "/home/jorge/miniconda3/envs/AIWantTheJob/lib/python3.11/site-packages/tqdm/auto.py:21: TqdmWarning: IProgress not found. Please update jupyter and ipywidgets. See https://ipywidgets.readthedocs.io/en/stable/user_install.html\n",
      "  from .autonotebook import tqdm as notebook_tqdm\n"
     ]
    }
   ],
   "source": [
    "from backend.modelo_ia.engine_proxy import Proxy\n",
    "from backend.database.database import DataBase"
   ]
  },
  {
   "cell_type": "markdown",
   "metadata": {},
   "source": [
    "### Iniciaciones Previas"
   ]
  },
  {
   "cell_type": "code",
   "execution_count": 3,
   "metadata": {},
   "outputs": [],
   "source": [
    "\"\"\"\n",
    "INTERNO\n",
    "vs = VectoreStore()\n",
    "llm = LLM()\n",
    "config = NemoConfig(\"meta-llama/Llama-2-7b-chat-hf\")\n",
    "Nemo = NemoCore(vs, config, llm)\n",
    "\"\"\"\n",
    "\n",
    "db = DataBase()"
   ]
  },
  {
   "cell_type": "code",
   "execution_count": 4,
   "metadata": {},
   "outputs": [
    {
     "name": "stdout",
     "output_type": "stream",
     "text": [
      "None\n"
     ]
    }
   ],
   "source": [
    "id = db.validar_usuario(\"user1\", \"user1\")"
   ]
  },
  {
   "cell_type": "markdown",
   "metadata": {},
   "source": [
    "### Test se inicia"
   ]
  },
  {
   "cell_type": "code",
   "execution_count": 5,
   "metadata": {},
   "outputs": [
    {
     "name": "stderr",
     "output_type": "stream",
     "text": [
      "/home/jorge/miniconda3/envs/AIWantTheJob/lib/python3.11/site-packages/huggingface_hub/file_download.py:1132: FutureWarning: `resume_download` is deprecated and will be removed in version 1.0.0. Downloads always resume when possible. If you want to force a new download, use `force_download=True`.\n",
      "  warnings.warn(\n"
     ]
    },
    {
     "name": "stdout",
     "output_type": "stream",
     "text": [
      "4bit True\n",
      "EL MODELO ES 4bit\n"
     ]
    },
    {
     "name": "stderr",
     "output_type": "stream",
     "text": [
      "Loading checkpoint shards: 100%|██████████| 2/2 [00:12<00:00,  6.02s/it]\n",
      "Fetching 5 files: 100%|██████████| 5/5 [00:00<00:00, 23020.33it/s]\n"
     ]
    }
   ],
   "source": [
    "proxy = Proxy(None, \"meta-llama/Llama-2-7b-chat-hf\", database=db)"
   ]
  },
  {
   "cell_type": "code",
   "execution_count": 6,
   "metadata": {},
   "outputs": [
    {
     "data": {
      "text/plain": [
       "True"
      ]
     },
     "execution_count": 6,
     "metadata": {},
     "output_type": "execute_result"
    }
   ],
   "source": [
    "proxy is not None"
   ]
  },
  {
   "cell_type": "markdown",
   "metadata": {},
   "source": [
    "### Test Funciona get_data"
   ]
  },
  {
   "cell_type": "code",
   "execution_count": 7,
   "metadata": {},
   "outputs": [
    {
     "name": "stdout",
     "output_type": "stream",
     "text": [
      "1\n",
      "Data Science\n",
      "Some general context you may use is: []\\The specific context is: []\n",
      "You are an experienced job interviewer. Your task is to generate a single, relevant interview question based on the given topic or job position. The question should be thought-provoking and designed to assess the candidate's skills, experience, or fit for the role. Provide only the question with the minimal human small talk commentary or explanation. Data Science\n",
      "Some general context you may use is: []\\The specific context is: []\n",
      "Res: {'role': 'assistant', 'content': '  Great! Here\\'s an interview question related to data science:\\n\\n\"Can you tell us about a time when you had to deal with noisy or missing data in a project? How did you handle it and what were the results?\"'}\n",
      "2\n",
      "3\n",
      "4\n"
     ]
    }
   ],
   "source": [
    "pregunta = await proxy.get_data(\"Data Science\", \"question\", id)"
   ]
  },
  {
   "cell_type": "code",
   "execution_count": 8,
   "metadata": {},
   "outputs": [
    {
     "data": {
      "text/plain": [
       "True"
      ]
     },
     "execution_count": 8,
     "metadata": {},
     "output_type": "execute_result"
    }
   ],
   "source": [
    "pregunta is not None"
   ]
  },
  {
   "cell_type": "code",
   "execution_count": 9,
   "metadata": {},
   "outputs": [
    {
     "data": {
      "text/plain": [
       "{'respuesta': '  Great! Here\\'s an interview question related to data science:\\n\\n\"Can you tell us about a time when you had to deal with noisy or missing data in a project? How did you handle it and what were the results?\"'}"
      ]
     },
     "execution_count": 9,
     "metadata": {},
     "output_type": "execute_result"
    }
   ],
   "source": [
    "pregunta"
   ]
  },
  {
   "cell_type": "code",
   "execution_count": 10,
   "metadata": {},
   "outputs": [
    {
     "name": "stdout",
     "output_type": "stream",
     "text": [
      "  Great! Here's an interview question related to data science:\n",
      "\n",
      "\"Can you tell us about a time when you had to deal with noisy or missing data in a project? How did you handle it and what were the results?\"\n",
      "Some general context you may use is: []\\The specific context is: []\n",
      "Some similar examples found are: False\n",
      "You are a job candidate in an interview. Your task is to provide a concise, professional answer to the given interview question. Your response should demonstrate relevant skills, experience, or qualities that would make you a strong candidate for the position. Answer as a human would, with a balance of confidence and humility. Provide only the answer without any additional commentary.   Great! Here's an interview question related to data science:\n",
      "\n",
      "\"Can you tell us about a time when you had to deal with noisy or missing data in a project? How did you handle it and what were the results?\"\n",
      "Some general context you may use is: []\\The specific context is: []\n",
      "Some similar examples found are: False\n",
      "Res: {'role': 'assistant', 'content': \"  Certainly! In my previous role as a Data Scientist at XYZ Inc., I was working on a project where we were analyzing customer purchasing behavior from an e-commerce platform. However, due to a technical issue, some of the data was either missing or noisy, which affected the accuracy of our models. To address this challenge, I first worked with the technical team to identify and rectify the issue, but since it was a complex problem, I realized that I needed to explore alternative approaches to still deliver insights. I then resorted to using imputation techniques to fill in the missing values and implemented a regularization algorithm to clean up the noisy data. The results showed that my solutions improved the model's accuracy by 15%, and the client was pleased with the outcome.\"}\n"
     ]
    }
   ],
   "source": [
    "respuesta = await proxy.get_data(pregunta[\"respuesta\"], \"example\", id)"
   ]
  },
  {
   "cell_type": "code",
   "execution_count": 11,
   "metadata": {},
   "outputs": [
    {
     "data": {
      "text/plain": [
       "True"
      ]
     },
     "execution_count": 11,
     "metadata": {},
     "output_type": "execute_result"
    }
   ],
   "source": [
    "respuesta is not None"
   ]
  },
  {
   "cell_type": "code",
   "execution_count": 12,
   "metadata": {},
   "outputs": [
    {
     "data": {
      "text/plain": [
       "{'respuesta': \"  Certainly! In my previous role as a Data Scientist at XYZ Inc., I was working on a project where we were analyzing customer purchasing behavior from an e-commerce platform. However, due to a technical issue, some of the data was either missing or noisy, which affected the accuracy of our models. To address this challenge, I first worked with the technical team to identify and rectify the issue, but since it was a complex problem, I realized that I needed to explore alternative approaches to still deliver insights. I then resorted to using imputation techniques to fill in the missing values and implemented a regularization algorithm to clean up the noisy data. The results showed that my solutions improved the model's accuracy by 15%, and the client was pleased with the outcome.\"}"
      ]
     },
     "execution_count": 12,
     "metadata": {},
     "output_type": "execute_result"
    }
   ],
   "source": [
    "respuesta"
   ]
  },
  {
   "cell_type": "code",
   "execution_count": 13,
   "metadata": {},
   "outputs": [
    {
     "name": "stdout",
     "output_type": "stream",
     "text": [
      "1\n",
      "  Certainly! In my previous role as a Data Scientist at XYZ Inc., I was working on a project where we were analyzing customer purchasing behavior from an e-commerce platform. However, due to a technical issue, some of the data was either missing or noisy, which affected the accuracy of our models. To address this challenge, I first worked with the technical team to identify and rectify the issue, but since it was a complex problem, I realized that I needed to explore alternative approaches to still deliver insights. I then resorted to using imputation techniques to fill in the missing values and implemented a regularization algorithm to clean up the noisy data. The results showed that my solutions improved the model's accuracy by 15%, and the client was pleased with the outcome.\n",
      "Some general context you may use is: []\\The specific context is: []\n",
      "Some similar examples found are: False\n",
      "You are an expert hiring manager evaluating candidates' responses to interview questions. Your task is to assess the given answer based on its relevance, accuracy, and effectiveness. Use the following scale for evaluation:\n",
      "\n",
      "0 - Refuses to answer\n",
      "1 - Poor: Answer is off-topic or inadequate\n",
      "2 - Fair: Answer is somewhat relevant but lacks depth or clarity\n",
      "3 - Good: Answer is relevant and demonstrates basic understanding\n",
      "4 - Very Good: Answer is well-articulated and shows strong relevant skills or experience\n",
      "5 - Excellent: Answer is exceptional, demonstrating deep understanding and outstanding fit for the role\n",
      "\n",
      "Provide your evaluation in the following format:\n",
      "Score: [0-5]\n",
      "Brief explanation: [Your concise assessment of the answer's strengths and weaknesses with humanlike writting]\n",
      "\n",
      "   Certainly! In my previous role as a Data Scientist at XYZ Inc., I was working on a project where we were analyzing customer purchasing behavior from an e-commerce platform. However, due to a technical issue, some of the data was either missing or noisy, which affected the accuracy of our models. To address this challenge, I first worked with the technical team to identify and rectify the issue, but since it was a complex problem, I realized that I needed to explore alternative approaches to still deliver insights. I then resorted to using imputation techniques to fill in the missing values and implemented a regularization algorithm to clean up the noisy data. The results showed that my solutions improved the model's accuracy by 15%, and the client was pleased with the outcome.\n",
      "Some general context you may use is: []\\The specific context is: []\n",
      "Some similar examples found are: False\n",
      "Res: {'role': 'assistant', 'content': \"  Score: 4 (Very Good)\\n\\nBrief explanation: This candidate provided a clear and articulate answer that demonstrated their ability to think creatively and find effective solutions to challenges. They explained how they identified and addressed the technical issue by working with the technical team to rectify the issue and using imputation techniques to fill in missing values. The candidate also highlighted the improvement in the model's accuracy after implementing these solutions. Overall, the candidate showed a good understanding of the importance of data quality and the various techniques used to address missing data. The only area for improvement could be to provide more details about the specific techniques they used for imputation and regularization.\"}\n",
      "2\n"
     ]
    }
   ],
   "source": [
    "evaluacion = await proxy.get_data(respuesta[\"respuesta\"], \"answer\", id)"
   ]
  },
  {
   "cell_type": "markdown",
   "metadata": {},
   "source": [
    "### test update db"
   ]
  },
  {
   "cell_type": "code",
   "execution_count": 14,
   "metadata": {},
   "outputs": [],
   "source": [
    "proxy.update_to_client_rag(\"ragPDF.pdf\", False)"
   ]
  },
  {
   "cell_type": "code",
   "execution_count": 15,
   "metadata": {},
   "outputs": [
    {
     "name": "stdout",
     "output_type": "stream",
     "text": [
      "1\n",
      "Medicine\n",
      "Some general context you may use is: []\\The specific context is: ['Medicine Example questions:\\nWhat are the major differences between viral and bacterial infections, and how are they\\ntreated differently?\\nDescribe the process of how vaccines work and their importance in preventing diseases.\\nWhat are the main causes and risk factors associated with cardiovascular diseases?\\nExplain the role of antibiotics in combating bacterial infections and the issue of antibiotic\\nresistance.\\nHow does the immune system function, and what are some common disorders related to\\nimmune dysfunction?']\n",
      "You are an experienced job interviewer. Your task is to generate a single, relevant interview question based on the given topic or job position. The question should be thought-provoking and designed to assess the candidate's skills, experience, or fit for the role. Provide only the question with the minimal human small talk commentary or explanation. Medicine\n",
      "Some general context you may use is: []\\The specific context is: ['Medicine Example questions:\\nWhat are the major differences between viral and bacterial infections, and how are they\\ntreated differently?\\nDescribe the process of how vaccines work and their importance in preventing diseases.\\nWhat are the main causes and risk factors associated with cardiovascular diseases?\\nExplain the role of antibiotics in combating bacterial infections and the issue of antibiotic\\nresistance.\\nHow does the immune system function, and what are some common disorders related to\\nimmune dysfunction?']\n",
      "Res: {'role': 'assistant', 'content': '  Question: How do you distinguish between different types of infections, such as bacterial vs. viral, and how do you determine the appropriate treatment approach for each?'}\n",
      "2\n",
      "3\n",
      "4\n"
     ]
    }
   ],
   "source": [
    "pregunta = await proxy.get_data(\"Medicine\", \"question\", id)"
   ]
  },
  {
   "cell_type": "code",
   "execution_count": 16,
   "metadata": {},
   "outputs": [
    {
     "data": {
      "text/plain": [
       "{'respuesta': '  Question: How do you distinguish between different types of infections, such as bacterial vs. viral, and how do you determine the appropriate treatment approach for each?'}"
      ]
     },
     "execution_count": 16,
     "metadata": {},
     "output_type": "execute_result"
    }
   ],
   "source": [
    "pregunta"
   ]
  },
  {
   "cell_type": "markdown",
   "metadata": {},
   "source": [
    "### Test db access"
   ]
  },
  {
   "cell_type": "code",
   "execution_count": 17,
   "metadata": {},
   "outputs": [
    {
     "name": "stdout",
     "output_type": "stream",
     "text": [
      "('prueba2',)\n"
     ]
    }
   ],
   "source": [
    "id = proxy.registrar_usuario(\"prueba2\", \"prueba2\")\n",
    "if id == None:\n",
    "    id = proxy.validar_usuario(\"prueba2\", \"prueba2\")"
   ]
  },
  {
   "cell_type": "code",
   "execution_count": 18,
   "metadata": {},
   "outputs": [
    {
     "data": {
      "text/plain": [
       "True"
      ]
     },
     "execution_count": 18,
     "metadata": {},
     "output_type": "execute_result"
    }
   ],
   "source": [
    "id is not None"
   ]
  },
  {
   "cell_type": "code",
   "execution_count": 19,
   "metadata": {},
   "outputs": [
    {
     "data": {
      "text/plain": [
       "'\"ozFXD2LfeGSxPF8H56iEjQ==\"'"
      ]
     },
     "execution_count": 19,
     "metadata": {},
     "output_type": "execute_result"
    }
   ],
   "source": [
    "id = id[\"id\"]\n",
    "id"
   ]
  },
  {
   "cell_type": "code",
   "execution_count": 20,
   "metadata": {},
   "outputs": [],
   "source": [
    "array = proxy.recuperar_valores_array(id)"
   ]
  },
  {
   "cell_type": "code",
   "execution_count": 21,
   "metadata": {},
   "outputs": [
    {
     "data": {
      "text/plain": [
       "True"
      ]
     },
     "execution_count": 21,
     "metadata": {},
     "output_type": "execute_result"
    }
   ],
   "source": [
    "array is not None"
   ]
  },
  {
   "cell_type": "code",
   "execution_count": 22,
   "metadata": {},
   "outputs": [
    {
     "data": {
      "text/plain": [
       "{'array': [(1, 0.0), (2, 3.0)]}"
      ]
     },
     "execution_count": 22,
     "metadata": {},
     "output_type": "execute_result"
    }
   ],
   "source": [
    "array"
   ]
  },
  {
   "cell_type": "code",
   "execution_count": 23,
   "metadata": {},
   "outputs": [],
   "source": [
    "array = proxy.insertar_valor_array(id, 3)"
   ]
  },
  {
   "cell_type": "code",
   "execution_count": 24,
   "metadata": {},
   "outputs": [
    {
     "data": {
      "text/plain": [
       "True"
      ]
     },
     "execution_count": 24,
     "metadata": {},
     "output_type": "execute_result"
    }
   ],
   "source": [
    "array is not None"
   ]
  },
  {
   "cell_type": "code",
   "execution_count": 25,
   "metadata": {},
   "outputs": [
    {
     "data": {
      "text/plain": [
       "{'array': [(1, 0.0), (2, 3.0), (3, 3.0)]}"
      ]
     },
     "execution_count": 25,
     "metadata": {},
     "output_type": "execute_result"
    }
   ],
   "source": [
    "array"
   ]
  },
  {
   "cell_type": "markdown",
   "metadata": {},
   "source": [
    "## SE PASAN LOS TESTS"
   ]
  }
 ],
 "metadata": {
  "kernelspec": {
   "display_name": "AIWantTheJob",
   "language": "python",
   "name": "python3"
  },
  "language_info": {
   "codemirror_mode": {
    "name": "ipython",
    "version": 3
   },
   "file_extension": ".py",
   "mimetype": "text/x-python",
   "name": "python",
   "nbconvert_exporter": "python",
   "pygments_lexer": "ipython3",
   "version": "3.11.9"
  }
 },
 "nbformat": 4,
 "nbformat_minor": 2
}
