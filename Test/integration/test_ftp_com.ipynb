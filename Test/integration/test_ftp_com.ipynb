{
 "cells": [
  {
   "cell_type": "markdown",
   "metadata": {},
   "source": [
    "# Test de uso intencionado de la Comunicación entre APIS"
   ]
  },
  {
   "cell_type": "code",
   "execution_count": 1,
   "metadata": {},
   "outputs": [],
   "source": [
    "import sys\n",
    "\n",
    "# importamos el modulo de funciones\n",
    "sys.path.append(\"../..\")"
   ]
  },
  {
   "cell_type": "code",
   "execution_count": 2,
   "metadata": {},
   "outputs": [],
   "source": [
    "from backend.helpers.ftpserver import FTPserverEu\n",
    "from frontend.helpers.ftpclient import FTPclient"
   ]
  },
  {
   "cell_type": "markdown",
   "metadata": {},
   "source": [
    "### Test init"
   ]
  },
  {
   "cell_type": "code",
   "execution_count": 3,
   "metadata": {},
   "outputs": [],
   "source": [
    "server = FTPserverEu()"
   ]
  },
  {
   "cell_type": "code",
   "execution_count": 4,
   "metadata": {},
   "outputs": [
    {
     "name": "stderr",
     "output_type": "stream",
     "text": [
      "[I 2024-07-01 23:16:05] concurrency model: async\n",
      "[I 2024-07-01 23:16:05] masquerade (NAT) address: None\n",
      "[I 2024-07-01 23:16:05] passive ports: None\n",
      "[I 2024-07-01 23:16:05] >>> starting FTP server on 127.0.0.1:9999, pid=12400 <<<\n"
     ]
    }
   ],
   "source": [
    "server.load(lambda x: print(x))\n",
    "server.start()"
   ]
  },
  {
   "cell_type": "code",
   "execution_count": 5,
   "metadata": {},
   "outputs": [
    {
     "name": "stderr",
     "output_type": "stream",
     "text": [
      "[I 2024-07-01 23:16:05] 127.0.0.1:60244-[] FTP session opened (connect)\n",
      "[I 2024-07-01 23:16:05] 127.0.0.1:60244-[generic] USER 'generic' logged in.\n",
      "[I 2024-07-01 23:16:05] 127.0.0.1:60244-[generic] STOR /home/jorge/Escritorio/TFGoficial/usc-aiwantthejob/Test/integration/archivos/ragPDF.pdf completed=1 bytes=32909 seconds=0.001\n"
     ]
    }
   ],
   "source": [
    "cliente = FTPclient(**server.get_data_as_dic())"
   ]
  },
  {
   "cell_type": "markdown",
   "metadata": {},
   "source": [
    "### Provamos el upload file"
   ]
  },
  {
   "cell_type": "code",
   "execution_count": 6,
   "metadata": {},
   "outputs": [
    {
     "name": "stdout",
     "output_type": "stream",
     "text": [
      "/home/jorge/Escritorio/TFGoficial/usc-aiwantthejob/Test/integration/archivos/ragPDF.pdf\n"
     ]
    },
    {
     "name": "stderr",
     "output_type": "stream",
     "text": [
      "[I 2024-07-01 23:16:05] 127.0.0.1:60244-[generic] FTP session closed (disconnect).\n"
     ]
    }
   ],
   "source": [
    "with open(\"ragPDF.pdf\", \"rb\") as f:\n",
    "    cliente.upload_file(f)"
   ]
  },
  {
   "cell_type": "markdown",
   "metadata": {},
   "source": [
    "### Los tests se PASAN"
   ]
  }
 ],
 "metadata": {
  "kernelspec": {
   "display_name": "AIWantTheJob",
   "language": "python",
   "name": "python3"
  },
  "language_info": {
   "codemirror_mode": {
    "name": "ipython",
    "version": 3
   },
   "file_extension": ".py",
   "mimetype": "text/x-python",
   "name": "python",
   "nbconvert_exporter": "python",
   "pygments_lexer": "ipython3",
   "version": "3.11.9"
  }
 },
 "nbformat": 4,
 "nbformat_minor": 2
}
