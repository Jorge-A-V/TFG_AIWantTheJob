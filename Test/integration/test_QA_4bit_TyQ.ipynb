{
 "cells": [
  {
   "cell_type": "markdown",
   "metadata": {},
   "source": [
    "### Test de calidad de respuestas a 4bits (integración y usabilidad)"
   ]
  },
  {
   "cell_type": "markdown",
   "metadata": {},
   "source": [
    "### Inicializamos el nemo"
   ]
  },
  {
   "cell_type": "code",
   "execution_count": 1,
   "metadata": {},
   "outputs": [],
   "source": [
    "import sys\n",
    "\n",
    "# importamos el modulo de funciones\n",
    "sys.path.append(\"../..\")"
   ]
  },
  {
   "cell_type": "code",
   "execution_count": 2,
   "metadata": {},
   "outputs": [
    {
     "name": "stderr",
     "output_type": "stream",
     "text": [
      "/home/jorge/miniconda3/envs/AIWantTheJob/lib/python3.11/site-packages/tqdm/auto.py:21: TqdmWarning: IProgress not found. Please update jupyter and ipywidgets. See https://ipywidgets.readthedocs.io/en/stable/user_install.html\n",
      "  from .autonotebook import tqdm as notebook_tqdm\n"
     ]
    }
   ],
   "source": [
    "from backend.modelo_ia.vector_store import VectoreStore\n",
    "from backend.modelo_ia.generic_llm import LLM\n",
    "from backend.modelo_ia.nemo_core import NemoCore\n",
    "from backend.modelo_ia.nemo_config import NemoConfig"
   ]
  },
  {
   "cell_type": "code",
   "execution_count": 3,
   "metadata": {},
   "outputs": [
    {
     "name": "stderr",
     "output_type": "stream",
     "text": [
      "/home/jorge/miniconda3/envs/AIWantTheJob/lib/python3.11/site-packages/huggingface_hub/file_download.py:1132: FutureWarning: `resume_download` is deprecated and will be removed in version 1.0.0. Downloads always resume when possible. If you want to force a new download, use `force_download=True`.\n",
      "  warnings.warn(\n"
     ]
    },
    {
     "name": "stdout",
     "output_type": "stream",
     "text": [
      "4bit True\n",
      "EL MODELO ES 4bit\n"
     ]
    },
    {
     "name": "stderr",
     "output_type": "stream",
     "text": [
      "Loading checkpoint shards: 100%|██████████| 2/2 [00:16<00:00,  8.32s/it]\n"
     ]
    }
   ],
   "source": [
    "vs = VectoreStore()\n",
    "llm = LLM()\n",
    "config = NemoConfig(\"meta-llama/Llama-2-7b-chat-hf\")"
   ]
  },
  {
   "cell_type": "code",
   "execution_count": 4,
   "metadata": {},
   "outputs": [
    {
     "name": "stderr",
     "output_type": "stream",
     "text": [
      "Fetching 5 files: 100%|██████████| 5/5 [00:00<00:00, 26546.23it/s]\n"
     ]
    }
   ],
   "source": [
    "Nemo = NemoCore(vs, config, llm)"
   ]
  },
  {
   "cell_type": "markdown",
   "metadata": {},
   "source": [
    "### Cargamos las preguntas del DataFrame (topics)"
   ]
  },
  {
   "cell_type": "code",
   "execution_count": 15,
   "metadata": {},
   "outputs": [],
   "source": [
    "import time"
   ]
  },
  {
   "cell_type": "markdown",
   "metadata": {},
   "source": [
    "### Generamos preguntas"
   ]
  },
  {
   "cell_type": "code",
   "execution_count": 6,
   "metadata": {},
   "outputs": [],
   "source": [
    "topicos = [\n",
    "    \"Bee keeping\",\n",
    "    \"Yoga monitoring\",\n",
    "    \"Medicine expecialised in endocrinology\",\n",
    "    \"Data Science\",\n",
    "    \"Prdoduct Managing for a Coding Department\",\n",
    "]"
   ]
  },
  {
   "cell_type": "code",
   "execution_count": 7,
   "metadata": {},
   "outputs": [
    {
     "name": "stdout",
     "output_type": "stream",
     "text": [
      "Bee keeping\n",
      "Some general context you may use is: []\\The specific context is: []\n",
      "You are an experienced job interviewer. Your task is to generate a single, relevant interview question based on the given topic or job position. The question should be thought-provoking and designed to assess the candidate's skills, experience, or fit for the role. Provide only the question with the minimal human small talk commentary or explanation. Bee keeping\n",
      "Some general context you may use is: []\\The specific context is: []\n",
      "Res: {'role': 'assistant', 'content': '  Great! Here is an interview question related to beekeeping:\\n\\nQuestion: Can you describe a time when you had to navigate a complex issue in your apiary? How did you approach the problem, and what was the outcome?'}\n",
      "Yoga monitoring\n",
      "Some general context you may use is: []\\The specific context is: []\n",
      "You are an experienced job interviewer. Your task is to generate a single, relevant interview question based on the given topic or job position. The question should be thought-provoking and designed to assess the candidate's skills, experience, or fit for the role. Provide only the question with the minimal human small talk commentary or explanation. Yoga monitoring\n",
      "Some general context you may use is: []\\The specific context is: []\n",
      "Res: {'role': 'assistant', 'content': '  Great, thank you! For a Yoga Monitoring position, here is a thought-provoking interview question:\\n\\n\"Can you share an example of how you have monitored and interpreted data from yoga sessions in the past? How did you ensure that the information was accurate and actionable for both practitioners and coaches?\"'}\n",
      "Medicine expecialised in endocrinology\n",
      "Some general context you may use is: []\\The specific context is: []\n",
      "You are an experienced job interviewer. Your task is to generate a single, relevant interview question based on the given topic or job position. The question should be thought-provoking and designed to assess the candidate's skills, experience, or fit for the role. Provide only the question with the minimal human small talk commentary or explanation. Medicine expecialised in endocrinology\n",
      "Some general context you may use is: []\\The specific context is: []\n",
      "Res: {'role': 'assistant', 'content': '  Great, thank you for letting me know! Here\\'s a sample interview question for an Endocrinologist position:\\n\\n\"Can you tell me about a time when you had to navigate a complex case of hormone imbalance in a patient? How did you manage to identify the root cause and develop an effective treatment plan?\"'}\n",
      "Data Science\n",
      "Some general context you may use is: []\\The specific context is: []\n",
      "You are an experienced job interviewer. Your task is to generate a single, relevant interview question based on the given topic or job position. The question should be thought-provoking and designed to assess the candidate's skills, experience, or fit for the role. Provide only the question with the minimal human small talk commentary or explanation. Data Science\n",
      "Some general context you may use is: []\\The specific context is: []\n",
      "Res: {'role': 'assistant', 'content': '  Great! Here\\'s an interview question for a Data Science position:\\n\\nQuestion: \"Can you describe a situation where you had to navigate a complex data set without clear documentation or structure? How did you approach the problem, and what was the outcome?\"'}\n",
      "Prdoduct Managing for a Coding Department\n",
      "Some general context you may use is: []\\The specific context is: []\n",
      "You are an experienced job interviewer. Your task is to generate a single, relevant interview question based on the given topic or job position. The question should be thought-provoking and designed to assess the candidate's skills, experience, or fit for the role. Provide only the question with the minimal human small talk commentary or explanation. Prdoduct Managing for a Coding Department\n",
      "Some general context you may use is: []\\The specific context is: []\n",
      "Res: {'role': 'assistant', 'content': '  Question:\\n\\n\"Can you give an example of how you would balance technical expertise and customer needs when managing a team of software developers? How do you ensure that the products developed by your team meet the highest quality standards while also addressing market demand?\"'}\n"
     ]
    }
   ],
   "source": [
    "preguntas = []\n",
    "tiempos = []\n",
    "for topico in topicos:\n",
    "    t1 = time.time()\n",
    "    answer = await Nemo.processCall(topico, \"question\")\n",
    "    t2 = time.time()\n",
    "    preguntas.append(answer[\"content\"])\n",
    "    tiempos.append(t2-t1)"
   ]
  },
  {
   "cell_type": "code",
   "execution_count": 8,
   "metadata": {},
   "outputs": [
    {
     "data": {
      "text/plain": [
       "(['  Great! Here is an interview question related to beekeeping:\\n\\nQuestion: Can you describe a time when you had to navigate a complex issue in your apiary? How did you approach the problem, and what was the outcome?',\n",
       "  '  Great, thank you! For a Yoga Monitoring position, here is a thought-provoking interview question:\\n\\n\"Can you share an example of how you have monitored and interpreted data from yoga sessions in the past? How did you ensure that the information was accurate and actionable for both practitioners and coaches?\"',\n",
       "  '  Great, thank you for letting me know! Here\\'s a sample interview question for an Endocrinologist position:\\n\\n\"Can you tell me about a time when you had to navigate a complex case of hormone imbalance in a patient? How did you manage to identify the root cause and develop an effective treatment plan?\"',\n",
       "  '  Great! Here\\'s an interview question for a Data Science position:\\n\\nQuestion: \"Can you describe a situation where you had to navigate a complex data set without clear documentation or structure? How did you approach the problem, and what was the outcome?\"',\n",
       "  '  Question:\\n\\n\"Can you give an example of how you would balance technical expertise and customer needs when managing a team of software developers? How do you ensure that the products developed by your team meet the highest quality standards while also addressing market demand?\"'],\n",
       " [25.47301936149597,\n",
       "  27.83995270729065,\n",
       "  11.541685342788696,\n",
       "  6.7978410720825195,\n",
       "  5.6185832023620605])"
      ]
     },
     "execution_count": 8,
     "metadata": {},
     "output_type": "execute_result"
    }
   ],
   "source": [
    "preguntas, tiempos"
   ]
  },
  {
   "cell_type": "markdown",
   "metadata": {},
   "source": [
    "### Generamos respuestas"
   ]
  },
  {
   "cell_type": "code",
   "execution_count": 9,
   "metadata": {},
   "outputs": [],
   "source": [
    "preguntas_res = [\n",
    "  '  Great! Here is an interview question related to beekeeping:\\n\\nQuestion: Can you describe a time when you had to navigate a complex issue in your apiary? How did you approach the problem, and what was the outcome?',\n",
    "  '  Great, thank you! For a Yoga Monitoring position, here is a thought-provoking interview question:\\n\\n\"Can you share an example of how you have monitored and interpreted data from yoga sessions in the past? How did you ensure that the information was accurate and actionable for both practitioners and coaches?\"',\n",
    "  '  Great, thank you for letting me know! Here\\'s a sample interview question for an Endocrinologist position:\\n\\n\"Can you tell me about a time when you had to navigate a complex case of hormone imbalance in a patient? How did you manage to identify the root cause and develop an effective treatment plan?\"',\n",
    "  '  Great! Here\\'s an interview question for a Data Science position:\\n\\nQuestion: \"Can you describe a situation where you had to navigate a complex data set without clear documentation or structure? How did you approach the problem, and what was the outcome?\"',\n",
    "  '  Question:\\n\\n\"Can you give an example of how you would balance technical expertise and customer needs when managing a team of software developers? How do you ensure that the products developed by your team meet the highest quality standards while also addressing market demand?\"'\n",
    "  ]"
   ]
  },
  {
   "cell_type": "code",
   "execution_count": 10,
   "metadata": {},
   "outputs": [
    {
     "name": "stderr",
     "output_type": "stream",
     "text": [
      "You seem to be using the pipelines sequentially on GPU. In order to maximize efficiency please use a dataset\n"
     ]
    },
    {
     "name": "stdout",
     "output_type": "stream",
     "text": [
      "  Great! Here is an interview question related to beekeeping:\n",
      "\n",
      "Question: Can you describe a time when you had to navigate a complex issue in your apiary? How did you approach the problem, and what was the outcome?\n",
      "Some general context you may use is: []\\The specific context is: []\n",
      "Some similar examples found are: False\n",
      "You are a job candidate in an interview. Your task is to provide a concise, professional answer to the given interview question. Your response should demonstrate relevant skills, experience, or qualities that would make you a strong candidate for the position. Answer as a human would, with a balance of confidence and humility. Provide only the answer without any additional commentary.   Great! Here is an interview question related to beekeeping:\n",
      "\n",
      "Question: Can you describe a time when you had to navigate a complex issue in your apiary? How did you approach the problem, and what was the outcome?\n",
      "Some general context you may use is: []\\The specific context is: []\n",
      "Some similar examples found are: False\n",
      "Res: {'role': 'assistant', 'content': \"  Certainly! I recall an instance where I encountered a peculiar predicament in my apiary. It was during the peak summer season, and our bees were experiencing high levels of varroa mite infestation despite my best efforts to manage them through regular inspections and treatments. The mites were overwhelming the colonies, causing the bees to become weakened and struggling to produce honey.\\n\\nTo tackle this intricate issue, I first consulted with fellow beekeepers and researched the latest techniques for controlling varroa mites. I realized the importance of working under strict sanitation practices, such as suiting up properly and isolating infested colonies to prevent spreading the mites. Then, using a variety of integrated pest management strategies, including applying chemical treatments alongside organic methods like oxalic acid vaporation and powdered sugar treatments, I approached the problem systematically.\\n\\nAfter several weeks of persistent treatment applications, I monitored the healthy development of the affected colonies through regularly scheduled inspections. Thanks to their hard work in containing the infestation and maintaining proper sanitation procedures within the apiculture community, my bees began recovering vigorously and regaining strength once more in no time; soon enough producing bountiful harvests of nutritious honey set to capture any connoisseur's attention. Under challenging conditions, my perseverance in addressing complicated difficulties helped promote an even more robust and thriving ecosystem for both the bees themselves along with numerous admirer fans appreciably impressed by all efforts invested in assuring optimal well-being amongst every living creature – honey producer or simply enjoying nature lovers alike.]\"}\n",
      "  Great, thank you! For a Yoga Monitoring position, here is a thought-provoking interview question:\n",
      "\n",
      "\"Can you share an example of how you have monitored and interpreted data from yoga sessions in the past? How did you ensure that the information was accurate and actionable for both practitioners and coaches?\"\n",
      "Some general context you may use is: []\\The specific context is: []\n",
      "Some similar examples found are: False\n",
      "You are a job candidate in an interview. Your task is to provide a concise, professional answer to the given interview question. Your response should demonstrate relevant skills, experience, or qualities that would make you a strong candidate for the position. Answer as a human would, with a balance of confidence and humility. Provide only the answer without any additional commentary.   Great, thank you! For a Yoga Monitoring position, here is a thought-provoking interview question:\n",
      "\n",
      "\"Can you share an example of how you have monitored and interpreted data from yoga sessions in the past? How did you ensure that the information was accurate and actionable for both practitioners and coaches?\"\n",
      "Some general context you may use is: []\\The specific context is: []\n",
      "Some similar examples found are: False\n",
      "Res: {'role': 'assistant', 'content': \"  Of course! As a passionate and experienced Yoga Monitoring Professional, I have several examples of effectively monitoring and interpreting data from yoga sessions in the past.\\n\\nIn my previous role at XYZ Wellness Center, I worked closely with yoga instructors and coaches to gather detailed data on students' physical movements during classes. Utilizing cutting-edge wearable technology, I recorded precise movement patterns, heart rate variability, and breathing rates throughout each session. By analyzing these metrics against predetermined benchmarks and goals, I could provide actionable feedback to both practitioners and coaches alike.\\n\\nOne particular instance involved tracking a student's progress in their quest for increased flexibility. Through regular analysis of her movement patterns during class, it became clear that she was struggling with overdeveloped muscles in her lower back and hips. By sharing this insightful information with the instructor and coach, we were able to tailor the student's practice plan to target those areas specifically, resulting in significant improvements within just a few weeks. The combination of technical know-how alongside compassionate communication allowed all parties involved to reach their wellness objectives more efficiently than ever before.\"}\n",
      "  Great, thank you for letting me know! Here's a sample interview question for an Endocrinologist position:\n",
      "\n",
      "\"Can you tell me about a time when you had to navigate a complex case of hormone imbalance in a patient? How did you manage to identify the root cause and develop an effective treatment plan?\"\n",
      "Some general context you may use is: []\\The specific context is: []\n",
      "Some similar examples found are: False\n",
      "You are a job candidate in an interview. Your task is to provide a concise, professional answer to the given interview question. Your response should demonstrate relevant skills, experience, or qualities that would make you a strong candidate for the position. Answer as a human would, with a balance of confidence and humility. Provide only the answer without any additional commentary.   Great, thank you for letting me know! Here's a sample interview question for an Endocrinologist position:\n",
      "\n",
      "\"Can you tell me about a time when you had to navigate a complex case of hormone imbalance in a patient? How did you manage to identify the root cause and develop an effective treatment plan?\"\n",
      "Some general context you may use is: []\\The specific context is: []\n",
      "Some similar examples found are: False\n",
      "Res: {'role': 'assistant', 'content': \"  Absolutely! As an endocrinologist, I have encountered numerous cases of hormone imbalances that required precise diagnosis and effective treatment plans. One particular instance that comes to mind is during my residency when I worked on a challenging case involving a middle-aged woman who presented with symptoms indicative of polycystic ovary syndrome (PCOS).\\n\\nUpon thorough examination and laboratory testing, we discovered that the patient had elevated levels of testosterone and cortisol, as well as cysts on her ovaries. This hormonal imbalance was causing irregular menstrual cycles and severe acne, which significantly impacted her quality of life. To identify the root cause of her condition, I conducted a comprehensive review of medical history, lifestyle habits, and family dynamics, taking into account potential contributing factors such as genetic predisposition and psychosocial stressors.\\n\\nTo develop an effective treatment plan, I considered various therapeutic approaches tailored to address both the underlying hormonal imbalance and the patient's individual needs. Firstly, I prescribed contraceptive medication to regulate estrogen production and induce menstrual regularity. Additionally, I advised lifestyle modifications, including changes to diet and exercise routine, to modulate insulin sensitivity and weight management. For more intense hormonal fluctuations, I suggested psychotherapy sessions to help cope with emotional distress and mental health concerns. Through close monitoring and collaboration with the patient, we observed remarkable improvements in her hormone levels, menstrual cycle regularization, and overall wellbeing over several months.\\n\\nIn conclusion, effectively navigating complex hormone imbalances demands meticulous evaluation, astute observations, and personalized treatment strategies. By combining evidence-based practices with empathy and patient-centered care, endocrinologists can improve patients' quality of life while minimizing undesirable side effects associated with long-term medical interventions.\"}\n",
      "  Great! Here's an interview question for a Data Science position:\n",
      "\n",
      "Question: \"Can you describe a situation where you had to navigate a complex data set without clear documentation or structure? How did you approach the problem, and what was the outcome?\"\n",
      "Some general context you may use is: []\\The specific context is: []\n",
      "Some similar examples found are: False\n",
      "You are a job candidate in an interview. Your task is to provide a concise, professional answer to the given interview question. Your response should demonstrate relevant skills, experience, or qualities that would make you a strong candidate for the position. Answer as a human would, with a balance of confidence and humility. Provide only the answer without any additional commentary.   Great! Here's an interview question for a Data Science position:\n",
      "\n",
      "Question: \"Can you describe a situation where you had to navigate a complex data set without clear documentation or structure? How did you approach the problem, and what was the outcome?\"\n",
      "Some general context you may use is: []\\The specific context is: []\n",
      "Some similar examples found are: False\n",
      "Res: {'role': 'assistant', 'content': \"  Absolutely! Here's my answer:\\n\\nIn my previous role at XYZ Enterprises, I faced a challenging situation where I had to navigate a large and complex dataset without proper documentation or structure. The dataset consisted of various types of files, including CSV, JSON, and Excel sheets, and it was collected from different sources over several years. Despite the lack of clear documentation, I was able to successfully navigate the data by following a systematic approach.\\n\\nFirstly, I started by organizing the datasets alphabetically based on the file names, which helped me identify the main categories of data. Next, I used metadata to link the various files together and created a simplified naming convention to facilitate easy identification. This allowed me to gain insights into the structure and content of each file, which ultimately led to the development of a visual representation using Tableau software.\\n\\nThrough this process, I identified key trends and patterns within the data sets, such as customer preferences and buying behaviors, which were not explicitly documented. By visualizing these patterns, I could communicate my findings effectively to stakeholders across the organization, resulting in informative decisions that improved overall business performance.\\n\\nThrough this experience, I learned the importance of staying proactive, creative, and patient when dealing with complex data sets, especially without proper documentation or guidance. I believe my ability to work independently, think critically, and deliver actionable results will serve me well in this role as a Data Scientist.\"}\n",
      "  Question:\n",
      "\n",
      "\"Can you give an example of how you would balance technical expertise and customer needs when managing a team of software developers? How do you ensure that the products developed by your team meet the highest quality standards while also addressing market demand?\"\n",
      "Some general context you may use is: []\\The specific context is: []\n",
      "Some similar examples found are: False\n",
      "You are a job candidate in an interview. Your task is to provide a concise, professional answer to the given interview question. Your response should demonstrate relevant skills, experience, or qualities that would make you a strong candidate for the position. Answer as a human would, with a balance of confidence and humility. Provide only the answer without any additional commentary.   Question:\n",
      "\n",
      "\"Can you give an example of how you would balance technical expertise and customer needs when managing a team of software developers? How do you ensure that the products developed by your team meet the highest quality standards while also addressing market demand?\"\n",
      "Some general context you may use is: []\\The specific context is: []\n",
      "Some similar examples found are: False\n",
      "Res: {'role': 'assistant', 'content': \"  Of course! Here's my response:\\n\\nAs a seasoned technology leader with over a decade of experience managing software development teams, I have consistently demonstrated my ability to strike a delicate balance between technical expertise and customer needs. To achieve this, I employ several strategies:\\n\\n1. Prioritize clear communication: Through regular check-ins and progress updates, I maintain open lines of communication with both my technical and non-technical stakeholders. By ensuring everyone is on the same page, we can align on project goals and objectives while continuously soliciting feedback to iterate and improve upon our solutions.\\n2. Foster a culture of collaboration: Encouraging collaboration among my team members allows us to pool diverse perspectives and leverage each person's strengths. This approach not only fosters innovation but also helps to create more robust and well-rounded product offerings that cater to evolving market demands.\\n3. Lead by example: As a hands-on manager, I lead projects side-by-side with my team rather than relegating myself solely to a leadership role. By remaining deeply involved in the development process, I set the bar high for technical excellence while modeling collaborative behavior for my team.\\n4. Implement rigorous quality assurance processes: Before launching new products or features, we conduct thorough QA testing to ensure they adhere to industry best practices and client expectations. Conducting periodic code reviews and security audits maintains quality standards throughout the entire product lifecycle.\\n5. Stay attuned to market trends: Continuously monitoring market developments, attending industry events, and networking with peers help me stay informed about emerging technologies and changing consumer preferences. Armed with this knowledge, I work closely with cross-functional departments to adapt our product roadmap accordingly – all while keeping a keen focus on delivering value to customers.\\n6. Evaluate performance metrics: Analyzing key performance indicators (KPIs) such as defect density, customer satisfaction scores, and release cycle times enables targeted actions towards improvigng overall devleopment efficiency. By setting up these systems, monitorign them, and applying lessons learned, my team maintains a laser-like focus on producing world-class software.\\n7. Invest in training and upskilling: Aiding the\"}\n"
     ]
    }
   ],
   "source": [
    "respuestas_res = []\n",
    "tiempos_res = []\n",
    "for res in preguntas_res:\n",
    "    t1 = time.time()\n",
    "    answer = await Nemo.processCall(res, \"example\")\n",
    "    t2 = time.time()\n",
    "    respuestas_res.append(answer[\"content\"])\n",
    "    tiempos_res.append(t2-t1)"
   ]
  },
  {
   "cell_type": "code",
   "execution_count": 11,
   "metadata": {},
   "outputs": [
    {
     "data": {
      "text/plain": [
       "([\"  Certainly! I recall an instance where I encountered a peculiar predicament in my apiary. It was during the peak summer season, and our bees were experiencing high levels of varroa mite infestation despite my best efforts to manage them through regular inspections and treatments. The mites were overwhelming the colonies, causing the bees to become weakened and struggling to produce honey.\\n\\nTo tackle this intricate issue, I first consulted with fellow beekeepers and researched the latest techniques for controlling varroa mites. I realized the importance of working under strict sanitation practices, such as suiting up properly and isolating infested colonies to prevent spreading the mites. Then, using a variety of integrated pest management strategies, including applying chemical treatments alongside organic methods like oxalic acid vaporation and powdered sugar treatments, I approached the problem systematically.\\n\\nAfter several weeks of persistent treatment applications, I monitored the healthy development of the affected colonies through regularly scheduled inspections. Thanks to their hard work in containing the infestation and maintaining proper sanitation procedures within the apiculture community, my bees began recovering vigorously and regaining strength once more in no time; soon enough producing bountiful harvests of nutritious honey set to capture any connoisseur's attention. Under challenging conditions, my perseverance in addressing complicated difficulties helped promote an even more robust and thriving ecosystem for both the bees themselves along with numerous admirer fans appreciably impressed by all efforts invested in assuring optimal well-being amongst every living creature – honey producer or simply enjoying nature lovers alike.]\",\n",
       "  \"  Of course! As a passionate and experienced Yoga Monitoring Professional, I have several examples of effectively monitoring and interpreting data from yoga sessions in the past.\\n\\nIn my previous role at XYZ Wellness Center, I worked closely with yoga instructors and coaches to gather detailed data on students' physical movements during classes. Utilizing cutting-edge wearable technology, I recorded precise movement patterns, heart rate variability, and breathing rates throughout each session. By analyzing these metrics against predetermined benchmarks and goals, I could provide actionable feedback to both practitioners and coaches alike.\\n\\nOne particular instance involved tracking a student's progress in their quest for increased flexibility. Through regular analysis of her movement patterns during class, it became clear that she was struggling with overdeveloped muscles in her lower back and hips. By sharing this insightful information with the instructor and coach, we were able to tailor the student's practice plan to target those areas specifically, resulting in significant improvements within just a few weeks. The combination of technical know-how alongside compassionate communication allowed all parties involved to reach their wellness objectives more efficiently than ever before.\",\n",
       "  \"  Absolutely! As an endocrinologist, I have encountered numerous cases of hormone imbalances that required precise diagnosis and effective treatment plans. One particular instance that comes to mind is during my residency when I worked on a challenging case involving a middle-aged woman who presented with symptoms indicative of polycystic ovary syndrome (PCOS).\\n\\nUpon thorough examination and laboratory testing, we discovered that the patient had elevated levels of testosterone and cortisol, as well as cysts on her ovaries. This hormonal imbalance was causing irregular menstrual cycles and severe acne, which significantly impacted her quality of life. To identify the root cause of her condition, I conducted a comprehensive review of medical history, lifestyle habits, and family dynamics, taking into account potential contributing factors such as genetic predisposition and psychosocial stressors.\\n\\nTo develop an effective treatment plan, I considered various therapeutic approaches tailored to address both the underlying hormonal imbalance and the patient's individual needs. Firstly, I prescribed contraceptive medication to regulate estrogen production and induce menstrual regularity. Additionally, I advised lifestyle modifications, including changes to diet and exercise routine, to modulate insulin sensitivity and weight management. For more intense hormonal fluctuations, I suggested psychotherapy sessions to help cope with emotional distress and mental health concerns. Through close monitoring and collaboration with the patient, we observed remarkable improvements in her hormone levels, menstrual cycle regularization, and overall wellbeing over several months.\\n\\nIn conclusion, effectively navigating complex hormone imbalances demands meticulous evaluation, astute observations, and personalized treatment strategies. By combining evidence-based practices with empathy and patient-centered care, endocrinologists can improve patients' quality of life while minimizing undesirable side effects associated with long-term medical interventions.\",\n",
       "  \"  Absolutely! Here's my answer:\\n\\nIn my previous role at XYZ Enterprises, I faced a challenging situation where I had to navigate a large and complex dataset without proper documentation or structure. The dataset consisted of various types of files, including CSV, JSON, and Excel sheets, and it was collected from different sources over several years. Despite the lack of clear documentation, I was able to successfully navigate the data by following a systematic approach.\\n\\nFirstly, I started by organizing the datasets alphabetically based on the file names, which helped me identify the main categories of data. Next, I used metadata to link the various files together and created a simplified naming convention to facilitate easy identification. This allowed me to gain insights into the structure and content of each file, which ultimately led to the development of a visual representation using Tableau software.\\n\\nThrough this process, I identified key trends and patterns within the data sets, such as customer preferences and buying behaviors, which were not explicitly documented. By visualizing these patterns, I could communicate my findings effectively to stakeholders across the organization, resulting in informative decisions that improved overall business performance.\\n\\nThrough this experience, I learned the importance of staying proactive, creative, and patient when dealing with complex data sets, especially without proper documentation or guidance. I believe my ability to work independently, think critically, and deliver actionable results will serve me well in this role as a Data Scientist.\",\n",
       "  \"  Of course! Here's my response:\\n\\nAs a seasoned technology leader with over a decade of experience managing software development teams, I have consistently demonstrated my ability to strike a delicate balance between technical expertise and customer needs. To achieve this, I employ several strategies:\\n\\n1. Prioritize clear communication: Through regular check-ins and progress updates, I maintain open lines of communication with both my technical and non-technical stakeholders. By ensuring everyone is on the same page, we can align on project goals and objectives while continuously soliciting feedback to iterate and improve upon our solutions.\\n2. Foster a culture of collaboration: Encouraging collaboration among my team members allows us to pool diverse perspectives and leverage each person's strengths. This approach not only fosters innovation but also helps to create more robust and well-rounded product offerings that cater to evolving market demands.\\n3. Lead by example: As a hands-on manager, I lead projects side-by-side with my team rather than relegating myself solely to a leadership role. By remaining deeply involved in the development process, I set the bar high for technical excellence while modeling collaborative behavior for my team.\\n4. Implement rigorous quality assurance processes: Before launching new products or features, we conduct thorough QA testing to ensure they adhere to industry best practices and client expectations. Conducting periodic code reviews and security audits maintains quality standards throughout the entire product lifecycle.\\n5. Stay attuned to market trends: Continuously monitoring market developments, attending industry events, and networking with peers help me stay informed about emerging technologies and changing consumer preferences. Armed with this knowledge, I work closely with cross-functional departments to adapt our product roadmap accordingly – all while keeping a keen focus on delivering value to customers.\\n6. Evaluate performance metrics: Analyzing key performance indicators (KPIs) such as defect density, customer satisfaction scores, and release cycle times enables targeted actions towards improvigng overall devleopment efficiency. By setting up these systems, monitorign them, and applying lessons learned, my team maintains a laser-like focus on producing world-class software.\\n7. Invest in training and upskilling: Aiding the\"],\n",
       " [18.88147759437561,\n",
       "  12.524664163589478,\n",
       "  23.611793994903564,\n",
       "  23.364424228668213,\n",
       "  33.813278675079346])"
      ]
     },
     "execution_count": 11,
     "metadata": {},
     "output_type": "execute_result"
    }
   ],
   "source": [
    "respuestas_res, tiempos_res"
   ]
  },
  {
   "cell_type": "markdown",
   "metadata": {},
   "source": [
    "### Generamos evaluaciones"
   ]
  },
  {
   "cell_type": "code",
   "execution_count": 12,
   "metadata": {},
   "outputs": [],
   "source": [
    "respuestas = [\n",
    "    \"Question: \" + preguntas_res[0] + \"\\nAnswer: \" + \"I dont want to \", # se niega\n",
    "    \"Question: \" + preguntas_res[1] + \"\\nAnswer: \" + \"I dont know\", # no sabe\n",
    "    \"Question: \" + preguntas_res[2] + \"\\nAnswer: \" + \"Medicine can be used for doing X and Y\", # on topic pero muy poco\n",
    "    # respuestas del propio bot\n",
    "    \"Question: \" + preguntas_res[3] + \"\\nAnswer: \" + \"Absolutely! Here's my answer:\\n\\nIn my previous role at XYZ Enterprises, I faced a challenging situation where I had to navigate a large and complex dataset without proper documentation or structure. The dataset consisted of various types of files, including CSV, JSON, and Excel sheets, and it was collected from different sources over several years. Despite the lack of clear documentation, I was able to successfully navigate the data by following a systematic approach.\\n\\nFirstly, I started by organizing the datasets alphabetically based on the file names, which helped me identify the main categories of data. Next, I used metadata to link the various files together and created a simplified naming convention to facilitate easy identification. This allowed me to gain insights into the structure and content of each file, which ultimately led to the development of a visual representation using Tableau software.\\n\\nThrough this process, I identified key trends and patterns within the data sets, such as customer preferences and buying behaviors, which were not explicitly documented. By visualizing these patterns, I could communicate my findings effectively to stakeholders across the organization, resulting in informative decisions that improved overall business performance.\\n\\nThrough this experience, I learned the importance of staying proactive, creative, and patient when dealing with complex data sets, especially without proper documentation or guidance. I believe my ability to work independently, think critically, and deliver actionable results will serve me well in this role as a Data Scientist\",\n",
    "    \"Question: \" + preguntas_res[4] + \"\\nAnswer: \" + \"Of course! Here's my response:\\n\\nAs a seasoned technology leader with over a decade of experience managing software development teams, I have consistently demonstrated my ability to strike a delicate balance between technical expertise and customer needs. To achieve this, I employ several strategies:\\n\\n1. Prioritize clear communication: Through regular check-ins and progress updates, I maintain open lines of communication with both my technical and non-technical stakeholders. By ensuring everyone is on the same page, we can align on project goals and objectives while continuously soliciting feedback to iterate and improve upon our solutions.\\n2. Foster a culture of collaboration: Encouraging collaboration among my team members allows us to pool diverse perspectives and leverage each person's strengths. This approach not only fosters innovation but also helps to create more robust and well-rounded product offerings that cater to evolving market demands.\\n3. Lead by example: As a hands-on manager, I lead projects side-by-side with my team rather than relegating myself solely to a leadership role. By remaining deeply involved in the development process, I set the bar high for technical excellence while modeling collaborative behavior for my team.\\n4. Implement rigorous quality assurance processes: Before launching new products or features, we conduct thorough QA testing to ensure they adhere to industry best practices and client expectations. Conducting periodic code reviews and security audits maintains quality standards throughout the entire product lifecycle.\\n5. Stay attuned to market trends: Continuously monitoring market developments, attending industry events, and networking with peers help me stay informed about emerging technologies and changing consumer preferences. Armed with this knowledge, I work closely with cross-functional departments to adapt our product roadmap accordingly – all while keeping a keen focus on delivering value to customers.\\n6. Evaluate performance metrics: Analyzing key performance indicators (KPIs) such as defect density, customer satisfaction scores, and release cycle times enables targeted actions towards improvigng overall devleopment efficiency. By setting up these systems, monitorign them, and applying lessons learned, my team maintains a laser-like focus on producing world-class software.\\n7. Invest in training and upskilling: Aiding the\"\n",
    "]"
   ]
  },
  {
   "cell_type": "code",
   "execution_count": 13,
   "metadata": {},
   "outputs": [
    {
     "name": "stdout",
     "output_type": "stream",
     "text": [
      "Question:   Great! Here is an interview question related to beekeeping:\n",
      "\n",
      "Question: Can you describe a time when you had to navigate a complex issue in your apiary? How did you approach the problem, and what was the outcome?\n",
      "Answer: I dont want to \n",
      "Some general context you may use is: []\\The specific context is: []\n",
      "Some similar examples found are: False\n",
      "You are an expert hiring manager evaluating candidates' responses to interview questions. Your task is to assess the given answer based on its relevance, accuracy, and effectiveness. Use the following scale for evaluation:\n",
      "\n",
      "0 - Refuses to answer\n",
      "1 - Poor: Answer is off-topic or inadequate\n",
      "2 - Fair: Answer is somewhat relevant but lacks depth or clarity\n",
      "3 - Good: Answer is relevant and demonstrates basic understanding\n",
      "4 - Very Good: Answer is well-articulated and shows strong relevant skills or experience\n",
      "5 - Excellent: Answer is exceptional, demonstrating deep understanding and outstanding fit for the role\n",
      "\n",
      "Provide your evaluation in the following format:\n",
      "Score: [0-5]\n",
      "Brief explanation: [Your concise assessment of the answer's strengths and weaknesses with humanlike writting]\n",
      "\n",
      " Question:   Great! Here is an interview question related to beekeeping:\n",
      "\n",
      "Question: Can you describe a time when you had to navigate a complex issue in your apiary? How did you approach the problem, and what was the outcome?\n",
      "Answer: I dont want to \n",
      "Some general context you may use is: []\\The specific context is: []\n",
      "Some similar examples found are: False\n",
      "Res: {'role': 'assistant', 'content': \"  Score: 0\\n\\nBrief explanation: The candidate refused to answer the question, which suggests they may not have any relevant experience or knowledge related to navigating complex issues in their apiary. This lack of response also indicates a potential reluctance to take responsibility for problems within their workplace, which could impact their ability to handle challenges as a beekeeper.\\n\\nIt's important to note that this question is designed to test the candidate's problem-solving skills and ability to address complex issues in a professional manner. By refusing to answer, the candidate has missed an opportunity to demonstrate these qualities, which are essential for success in beekeeping and other STEM fields.\"}\n",
      "Question:   Great, thank you! For a Yoga Monitoring position, here is a thought-provoking interview question:\n",
      "\n",
      "\"Can you share an example of how you have monitored and interpreted data from yoga sessions in the past? How did you ensure that the information was accurate and actionable for both practitioners and coaches?\"\n",
      "Answer: I dont know\n",
      "Some general context you may use is: []\\The specific context is: []\n",
      "Some similar examples found are: False\n",
      "You are an expert hiring manager evaluating candidates' responses to interview questions. Your task is to assess the given answer based on its relevance, accuracy, and effectiveness. Use the following scale for evaluation:\n",
      "\n",
      "0 - Refuses to answer\n",
      "1 - Poor: Answer is off-topic or inadequate\n",
      "2 - Fair: Answer is somewhat relevant but lacks depth or clarity\n",
      "3 - Good: Answer is relevant and demonstrates basic understanding\n",
      "4 - Very Good: Answer is well-articulated and shows strong relevant skills or experience\n",
      "5 - Excellent: Answer is exceptional, demonstrating deep understanding and outstanding fit for the role\n",
      "\n",
      "Provide your evaluation in the following format:\n",
      "Score: [0-5]\n",
      "Brief explanation: [Your concise assessment of the answer's strengths and weaknesses with humanlike writting]\n",
      "\n",
      " Question:   Great, thank you! For a Yoga Monitoring position, here is a thought-provoking interview question:\n",
      "\n",
      "\"Can you share an example of how you have monitored and interpreted data from yoga sessions in the past? How did you ensure that the information was accurate and actionable for both practitioners and coaches?\"\n",
      "Answer: I dont know\n",
      "Some general context you may use is: []\\The specific context is: []\n",
      "Some similar examples found are: False\n",
      "Res: {'role': 'assistant', 'content': \"  Score: 0\\nBrief explanation: The candidate refuse to answer the question directly, failing to provide any examples of how they have monitored and interpreted data from yoga sessions in the past. This lack of response suggests a potential disinterest in the role and the ability to perform the tasks required.\\n\\nThe interviewer would likely be disappointed by this response as it does not show any evidence of the candidate's ability to effectively monitor and interpret data, which is a crucial aspect of the Yoga Monitoring position. Additionally, the lack of effort in providing an answer may imply that the candidate is not invested in the opportunity.\"}\n",
      "Question:   Great, thank you for letting me know! Here's a sample interview question for an Endocrinologist position:\n",
      "\n",
      "\"Can you tell me about a time when you had to navigate a complex case of hormone imbalance in a patient? How did you manage to identify the root cause and develop an effective treatment plan?\"\n",
      "Answer: Medicine can be used for doing X and Y\n",
      "Some general context you may use is: []\\The specific context is: []\n",
      "Some similar examples found are: False\n",
      "You are an expert hiring manager evaluating candidates' responses to interview questions. Your task is to assess the given answer based on its relevance, accuracy, and effectiveness. Use the following scale for evaluation:\n",
      "\n",
      "0 - Refuses to answer\n",
      "1 - Poor: Answer is off-topic or inadequate\n",
      "2 - Fair: Answer is somewhat relevant but lacks depth or clarity\n",
      "3 - Good: Answer is relevant and demonstrates basic understanding\n",
      "4 - Very Good: Answer is well-articulated and shows strong relevant skills or experience\n",
      "5 - Excellent: Answer is exceptional, demonstrating deep understanding and outstanding fit for the role\n",
      "\n",
      "Provide your evaluation in the following format:\n",
      "Score: [0-5]\n",
      "Brief explanation: [Your concise assessment of the answer's strengths and weaknesses with humanlike writting]\n",
      "\n",
      " Question:   Great, thank you for letting me know! Here's a sample interview question for an Endocrinologist position:\n",
      "\n",
      "\"Can you tell me about a time when you had to navigate a complex case of hormone imbalance in a patient? How did you manage to identify the root cause and develop an effective treatment plan?\"\n",
      "Answer: Medicine can be used for doing X and Y\n",
      "Some general context you may use is: []\\The specific context is: []\n",
      "Some similar examples found are: False\n",
      "Res: {'role': 'assistant', 'content': '  Score: 1\\n\\nExplanation: The candidate\\'s response does not address the question directly and appears to be unrelated to endocrine disorders. They mention \"Medicine can be used for doing X and Y,\" which could potentially apply to any medical field and provides no specific example or detail related to endocrinology. This suggests that the candidate has not thoughtfully considered how they would approach navigating a complex case of hormone imbalance in a patient, and their answer lacks relevant depth and insight.'}\n",
      "Question:   Great! Here's an interview question for a Data Science position:\n",
      "\n",
      "Question: \"Can you describe a situation where you had to navigate a complex data set without clear documentation or structure? How did you approach the problem, and what was the outcome?\"\n",
      "Answer: Absolutely! Here's my answer:\n",
      "\n",
      "In my previous role at XYZ Enterprises, I faced a challenging situation where I had to navigate a large and complex dataset without proper documentation or structure. The dataset consisted of various types of files, including CSV, JSON, and Excel sheets, and it was collected from different sources over several years. Despite the lack of clear documentation, I was able to successfully navigate the data by following a systematic approach.\n",
      "\n",
      "Firstly, I started by organizing the datasets alphabetically based on the file names, which helped me identify the main categories of data. Next, I used metadata to link the various files together and created a simplified naming convention to facilitate easy identification. This allowed me to gain insights into the structure and content of each file, which ultimately led to the development of a visual representation using Tableau software.\n",
      "\n",
      "Through this process, I identified key trends and patterns within the data sets, such as customer preferences and buying behaviors, which were not explicitly documented. By visualizing these patterns, I could communicate my findings effectively to stakeholders across the organization, resulting in informative decisions that improved overall business performance.\n",
      "\n",
      "Through this experience, I learned the importance of staying proactive, creative, and patient when dealing with complex data sets, especially without proper documentation or guidance. I believe my ability to work independently, think critically, and deliver actionable results will serve me well in this role as a Data Scientist\n",
      "Some general context you may use is: []\\The specific context is: []\n",
      "Some similar examples found are: False\n",
      "You are an expert hiring manager evaluating candidates' responses to interview questions. Your task is to assess the given answer based on its relevance, accuracy, and effectiveness. Use the following scale for evaluation:\n",
      "\n",
      "0 - Refuses to answer\n",
      "1 - Poor: Answer is off-topic or inadequate\n",
      "2 - Fair: Answer is somewhat relevant but lacks depth or clarity\n",
      "3 - Good: Answer is relevant and demonstrates basic understanding\n",
      "4 - Very Good: Answer is well-articulated and shows strong relevant skills or experience\n",
      "5 - Excellent: Answer is exceptional, demonstrating deep understanding and outstanding fit for the role\n",
      "\n",
      "Provide your evaluation in the following format:\n",
      "Score: [0-5]\n",
      "Brief explanation: [Your concise assessment of the answer's strengths and weaknesses with humanlike writting]\n",
      "\n",
      " Question:   Great! Here's an interview question for a Data Science position:\n",
      "\n",
      "Question: \"Can you describe a situation where you had to navigate a complex data set without clear documentation or structure? How did you approach the problem, and what was the outcome?\"\n",
      "Answer: Absolutely! Here's my answer:\n",
      "\n",
      "In my previous role at XYZ Enterprises, I faced a challenging situation where I had to navigate a large and complex dataset without proper documentation or structure. The dataset consisted of various types of files, including CSV, JSON, and Excel sheets, and it was collected from different sources over several years. Despite the lack of clear documentation, I was able to successfully navigate the data by following a systematic approach.\n",
      "\n",
      "Firstly, I started by organizing the datasets alphabetically based on the file names, which helped me identify the main categories of data. Next, I used metadata to link the various files together and created a simplified naming convention to facilitate easy identification. This allowed me to gain insights into the structure and content of each file, which ultimately led to the development of a visual representation using Tableau software.\n",
      "\n",
      "Through this process, I identified key trends and patterns within the data sets, such as customer preferences and buying behaviors, which were not explicitly documented. By visualizing these patterns, I could communicate my findings effectively to stakeholders across the organization, resulting in informative decisions that improved overall business performance.\n",
      "\n",
      "Through this experience, I learned the importance of staying proactive, creative, and patient when dealing with complex data sets, especially without proper documentation or guidance. I believe my ability to work independently, think critically, and deliver actionable results will serve me well in this role as a Data Scientist\n",
      "Some general context you may use is: []\\The specific context is: []\n",
      "Some similar examples found are: False\n",
      "Res: {'role': 'assistant', 'content': \"  Score: 4\\n\\nExplanation: The candidate provides a detailed and structured approach to navigating a complex dataset without clear documentation or structure. They start by organizing the datasets alphabetically, then use metadata to link the files together and create a simplification plan. They also mention the importance of being patient and creative when working with complex data sets, which shows their understanding of the challenge. Additionally, they provide specific examples of how they were able to identify key trends and patterns within the data, which demonstrate their analytical skills. Overall, the candidate's response suggests that they have practical experience and a good mindset for navigating complex data sets, making them a strong candidate for a Data Science position.\"}\n",
      "Question:   Question:\n",
      "\n",
      "\"Can you give an example of how you would balance technical expertise and customer needs when managing a team of software developers? How do you ensure that the products developed by your team meet the highest quality standards while also addressing market demand?\"\n",
      "Answer: Of course! Here's my response:\n",
      "\n",
      "As a seasoned technology leader with over a decade of experience managing software development teams, I have consistently demonstrated my ability to strike a delicate balance between technical expertise and customer needs. To achieve this, I employ several strategies:\n",
      "\n",
      "1. Prioritize clear communication: Through regular check-ins and progress updates, I maintain open lines of communication with both my technical and non-technical stakeholders. By ensuring everyone is on the same page, we can align on project goals and objectives while continuously soliciting feedback to iterate and improve upon our solutions.\n",
      "2. Foster a culture of collaboration: Encouraging collaboration among my team members allows us to pool diverse perspectives and leverage each person's strengths. This approach not only fosters innovation but also helps to create more robust and well-rounded product offerings that cater to evolving market demands.\n",
      "3. Lead by example: As a hands-on manager, I lead projects side-by-side with my team rather than relegating myself solely to a leadership role. By remaining deeply involved in the development process, I set the bar high for technical excellence while modeling collaborative behavior for my team.\n",
      "4. Implement rigorous quality assurance processes: Before launching new products or features, we conduct thorough QA testing to ensure they adhere to industry best practices and client expectations. Conducting periodic code reviews and security audits maintains quality standards throughout the entire product lifecycle.\n",
      "5. Stay attuned to market trends: Continuously monitoring market developments, attending industry events, and networking with peers help me stay informed about emerging technologies and changing consumer preferences. Armed with this knowledge, I work closely with cross-functional departments to adapt our product roadmap accordingly – all while keeping a keen focus on delivering value to customers.\n",
      "6. Evaluate performance metrics: Analyzing key performance indicators (KPIs) such as defect density, customer satisfaction scores, and release cycle times enables targeted actions towards improvigng overall devleopment efficiency. By setting up these systems, monitorign them, and applying lessons learned, my team maintains a laser-like focus on producing world-class software.\n",
      "7. Invest in training and upskilling: Aiding the\n",
      "Some general context you may use is: []\\The specific context is: []\n",
      "Some similar examples found are: False\n",
      "You are an expert hiring manager evaluating candidates' responses to interview questions. Your task is to assess the given answer based on its relevance, accuracy, and effectiveness. Use the following scale for evaluation:\n",
      "\n",
      "0 - Refuses to answer\n",
      "1 - Poor: Answer is off-topic or inadequate\n",
      "2 - Fair: Answer is somewhat relevant but lacks depth or clarity\n",
      "3 - Good: Answer is relevant and demonstrates basic understanding\n",
      "4 - Very Good: Answer is well-articulated and shows strong relevant skills or experience\n",
      "5 - Excellent: Answer is exceptional, demonstrating deep understanding and outstanding fit for the role\n",
      "\n",
      "Provide your evaluation in the following format:\n",
      "Score: [0-5]\n",
      "Brief explanation: [Your concise assessment of the answer's strengths and weaknesses with humanlike writting]\n",
      "\n",
      " Question:   Question:\n",
      "\n",
      "\"Can you give an example of how you would balance technical expertise and customer needs when managing a team of software developers? How do you ensure that the products developed by your team meet the highest quality standards while also addressing market demand?\"\n",
      "Answer: Of course! Here's my response:\n",
      "\n",
      "As a seasoned technology leader with over a decade of experience managing software development teams, I have consistently demonstrated my ability to strike a delicate balance between technical expertise and customer needs. To achieve this, I employ several strategies:\n",
      "\n",
      "1. Prioritize clear communication: Through regular check-ins and progress updates, I maintain open lines of communication with both my technical and non-technical stakeholders. By ensuring everyone is on the same page, we can align on project goals and objectives while continuously soliciting feedback to iterate and improve upon our solutions.\n",
      "2. Foster a culture of collaboration: Encouraging collaboration among my team members allows us to pool diverse perspectives and leverage each person's strengths. This approach not only fosters innovation but also helps to create more robust and well-rounded product offerings that cater to evolving market demands.\n",
      "3. Lead by example: As a hands-on manager, I lead projects side-by-side with my team rather than relegating myself solely to a leadership role. By remaining deeply involved in the development process, I set the bar high for technical excellence while modeling collaborative behavior for my team.\n",
      "4. Implement rigorous quality assurance processes: Before launching new products or features, we conduct thorough QA testing to ensure they adhere to industry best practices and client expectations. Conducting periodic code reviews and security audits maintains quality standards throughout the entire product lifecycle.\n",
      "5. Stay attuned to market trends: Continuously monitoring market developments, attending industry events, and networking with peers help me stay informed about emerging technologies and changing consumer preferences. Armed with this knowledge, I work closely with cross-functional departments to adapt our product roadmap accordingly – all while keeping a keen focus on delivering value to customers.\n",
      "6. Evaluate performance metrics: Analyzing key performance indicators (KPIs) such as defect density, customer satisfaction scores, and release cycle times enables targeted actions towards improvigng overall devleopment efficiency. By setting up these systems, monitorign them, and applying lessons learned, my team maintains a laser-like focus on producing world-class software.\n",
      "7. Invest in training and upskilling: Aiding the\n",
      "Some general context you may use is: []\\The specific context is: []\n",
      "Some similar examples found are: False\n",
      "Res: {'role': 'assistant', 'content': '  Score: 5\\n\\nExplanation:\\n\\nWow, what an impressive answer! The candidate provides a comprehensive and well-structured strategy for balancing technical expertise and customer needs. They start by emphasizing the importance of clear communication, which sets the tone for their approach. They highlight their ability to foster a culture of collaboration, leading by example, and implementing rigorous quality assurance processes. These are all essential elements for ensuring that the products developed by their team meet the highest quality standards while also addressing market demand.\\n\\nNotable aspects of their answer include:\\n\\n* Demonstrated leadership skills through their involvement in the development process and the creation of a collaborative work environment\\n* Emphasized the significance of continuous learning and improvement by mentioning the implementation of quality assurance processes, performance metrics, and investing in training and upskilling\\n* Provided concrete examples from their experience to illustrate their points, showcasing their expertise in technology management\\n* Demonstrated awareness of market trends and customer needs by discussing their participation in industry events, networking with peers, and continuously monitoring performance metrics\\n\\nIt becomes evident that this candidate has extensive experience in striking a balance between technical know-how and customer satisfaction, making them an excellent choice for managing a software development team.'}\n"
     ]
    }
   ],
   "source": [
    "evaliuaciones = []\n",
    "tiempos_eval = []\n",
    "for res in respuestas:\n",
    "    t1 = time.time()\n",
    "    answer = await Nemo.processCall(res, \"answer\")\n",
    "    t2 = time.time()\n",
    "    evaliuaciones.append(answer[\"content\"])\n",
    "    tiempos_eval.append(t2-t1)"
   ]
  },
  {
   "cell_type": "code",
   "execution_count": 14,
   "metadata": {},
   "outputs": [
    {
     "data": {
      "text/plain": [
       "([\"  Score: 0\\n\\nBrief explanation: The candidate refused to answer the question, which suggests they may not have any relevant experience or knowledge related to navigating complex issues in their apiary. This lack of response also indicates a potential reluctance to take responsibility for problems within their workplace, which could impact their ability to handle challenges as a beekeeper.\\n\\nIt's important to note that this question is designed to test the candidate's problem-solving skills and ability to address complex issues in a professional manner. By refusing to answer, the candidate has missed an opportunity to demonstrate these qualities, which are essential for success in beekeeping and other STEM fields.\",\n",
       "  \"  Score: 0\\nBrief explanation: The candidate refuse to answer the question directly, failing to provide any examples of how they have monitored and interpreted data from yoga sessions in the past. This lack of response suggests a potential disinterest in the role and the ability to perform the tasks required.\\n\\nThe interviewer would likely be disappointed by this response as it does not show any evidence of the candidate's ability to effectively monitor and interpret data, which is a crucial aspect of the Yoga Monitoring position. Additionally, the lack of effort in providing an answer may imply that the candidate is not invested in the opportunity.\",\n",
       "  '  Score: 1\\n\\nExplanation: The candidate\\'s response does not address the question directly and appears to be unrelated to endocrine disorders. They mention \"Medicine can be used for doing X and Y,\" which could potentially apply to any medical field and provides no specific example or detail related to endocrinology. This suggests that the candidate has not thoughtfully considered how they would approach navigating a complex case of hormone imbalance in a patient, and their answer lacks relevant depth and insight.',\n",
       "  \"  Score: 4\\n\\nExplanation: The candidate provides a detailed and structured approach to navigating a complex dataset without clear documentation or structure. They start by organizing the datasets alphabetically, then use metadata to link the files together and create a simplification plan. They also mention the importance of being patient and creative when working with complex data sets, which shows their understanding of the challenge. Additionally, they provide specific examples of how they were able to identify key trends and patterns within the data, which demonstrate their analytical skills. Overall, the candidate's response suggests that they have practical experience and a good mindset for navigating complex data sets, making them a strong candidate for a Data Science position.\",\n",
       "  '  Score: 5\\n\\nExplanation:\\n\\nWow, what an impressive answer! The candidate provides a comprehensive and well-structured strategy for balancing technical expertise and customer needs. They start by emphasizing the importance of clear communication, which sets the tone for their approach. They highlight their ability to foster a culture of collaboration, leading by example, and implementing rigorous quality assurance processes. These are all essential elements for ensuring that the products developed by their team meet the highest quality standards while also addressing market demand.\\n\\nNotable aspects of their answer include:\\n\\n* Demonstrated leadership skills through their involvement in the development process and the creation of a collaborative work environment\\n* Emphasized the significance of continuous learning and improvement by mentioning the implementation of quality assurance processes, performance metrics, and investing in training and upskilling\\n* Provided concrete examples from their experience to illustrate their points, showcasing their expertise in technology management\\n* Demonstrated awareness of market trends and customer needs by discussing their participation in industry events, networking with peers, and continuously monitoring performance metrics\\n\\nIt becomes evident that this candidate has extensive experience in striking a balance between technical know-how and customer satisfaction, making them an excellent choice for managing a software development team.'],\n",
       " [9.36503005027771,\n",
       "  7.693923473358154,\n",
       "  10.921520471572876,\n",
       "  21.223644256591797,\n",
       "  14.992786645889282])"
      ]
     },
     "execution_count": 14,
     "metadata": {},
     "output_type": "execute_result"
    }
   ],
   "source": [
    "evaliuaciones, tiempos_eval"
   ]
  },
  {
   "cell_type": "markdown",
   "metadata": {},
   "source": [
    "## El test de Integración se pasa, se  adhieren al contexto según lo esperado\n",
    "\n",
    "Aunque tengan tendencias todavía de LLM (por ejemplo empezar con Great! o Certainly!)"
   ]
  },
  {
   "cell_type": "markdown",
   "metadata": {},
   "source": [
    "##### Guardamos para la usabilidadd"
   ]
  },
  {
   "cell_type": "code",
   "execution_count": 23,
   "metadata": {},
   "outputs": [],
   "source": [
    "import pandas as pd\n",
    "\n",
    "df_preg = pd.DataFrame(columns=[\"accion\", \"prompt\", \"respuesta\", \"cuant\", \"tiempo\"])\n",
    "df_res = pd.DataFrame(columns=[\"accion\", \"prompt\", \"respuesta\", \"cuant\", \"tiempo\"])\n",
    "df_eval = pd.DataFrame(columns=[\"accion\", \"prompt\", \"respuesta\", \"cuant\", \"tiempo\"])"
   ]
  },
  {
   "cell_type": "code",
   "execution_count": 24,
   "metadata": {},
   "outputs": [],
   "source": [
    "df_preg[\"accion\"] = [\"generar pregunta\" for i in range(len(topicos))]\n",
    "df_preg[\"prompt\"] = topicos\n",
    "df_preg[\"respuesta\"] = preguntas\n",
    "df_preg[\"cuant\"] = [\"4bit\" for i in range(len(topicos))]\n",
    "df_preg[\"tiempo\"] = tiempos"
   ]
  },
  {
   "cell_type": "code",
   "execution_count": 25,
   "metadata": {},
   "outputs": [],
   "source": [
    "df_res[\"accion\"] = [\"generar respuesta\" for i in range(len(topicos))]\n",
    "df_res[\"prompt\"] = preguntas_res\n",
    "df_res[\"respuesta\"] = respuestas_res\n",
    "df_res[\"cuant\"] = [\"4bit\" for i in range(len(topicos))]\n",
    "df_res[\"tiempo\"] = tiempos_res"
   ]
  },
  {
   "cell_type": "code",
   "execution_count": 26,
   "metadata": {},
   "outputs": [],
   "source": [
    "df_eval[\"accion\"] = [\"generar evaluacion\" for i in range(len(topicos))]\n",
    "df_eval[\"prompt\"] = respuestas\n",
    "df_eval[\"respuesta\"] = evaliuaciones\n",
    "df_eval[\"cuant\"] = [\"4bit\" for i in range(len(topicos))]\n",
    "df_eval[\"tiempo\"] = tiempos_eval"
   ]
  },
  {
   "cell_type": "code",
   "execution_count": 27,
   "metadata": {},
   "outputs": [],
   "source": [
    "df_final = pd.concat([df_preg, df_res, df_eval])"
   ]
  },
  {
   "cell_type": "code",
   "execution_count": 28,
   "metadata": {},
   "outputs": [
    {
     "data": {
      "text/html": [
       "<div>\n",
       "<style scoped>\n",
       "    .dataframe tbody tr th:only-of-type {\n",
       "        vertical-align: middle;\n",
       "    }\n",
       "\n",
       "    .dataframe tbody tr th {\n",
       "        vertical-align: top;\n",
       "    }\n",
       "\n",
       "    .dataframe thead th {\n",
       "        text-align: right;\n",
       "    }\n",
       "</style>\n",
       "<table border=\"1\" class=\"dataframe\">\n",
       "  <thead>\n",
       "    <tr style=\"text-align: right;\">\n",
       "      <th></th>\n",
       "      <th>accion</th>\n",
       "      <th>prompt</th>\n",
       "      <th>respuesta</th>\n",
       "      <th>cuant</th>\n",
       "      <th>tiempo</th>\n",
       "    </tr>\n",
       "  </thead>\n",
       "  <tbody>\n",
       "    <tr>\n",
       "      <th>0</th>\n",
       "      <td>generar pregunta</td>\n",
       "      <td>Bee keeping</td>\n",
       "      <td>Great! Here is an interview question related...</td>\n",
       "      <td>4bit</td>\n",
       "      <td>25.473019</td>\n",
       "    </tr>\n",
       "    <tr>\n",
       "      <th>1</th>\n",
       "      <td>generar pregunta</td>\n",
       "      <td>Yoga monitoring</td>\n",
       "      <td>Great, thank you! For a Yoga Monitoring posi...</td>\n",
       "      <td>4bit</td>\n",
       "      <td>27.839953</td>\n",
       "    </tr>\n",
       "    <tr>\n",
       "      <th>2</th>\n",
       "      <td>generar pregunta</td>\n",
       "      <td>Medicine expecialised in endocrinology</td>\n",
       "      <td>Great, thank you for letting me know! Here's...</td>\n",
       "      <td>4bit</td>\n",
       "      <td>11.541685</td>\n",
       "    </tr>\n",
       "    <tr>\n",
       "      <th>3</th>\n",
       "      <td>generar pregunta</td>\n",
       "      <td>Data Science</td>\n",
       "      <td>Great! Here's an interview question for a Da...</td>\n",
       "      <td>4bit</td>\n",
       "      <td>6.797841</td>\n",
       "    </tr>\n",
       "    <tr>\n",
       "      <th>4</th>\n",
       "      <td>generar pregunta</td>\n",
       "      <td>Prdoduct Managing for a Coding Department</td>\n",
       "      <td>Question:\\n\\n\"Can you give an example of how...</td>\n",
       "      <td>4bit</td>\n",
       "      <td>5.618583</td>\n",
       "    </tr>\n",
       "    <tr>\n",
       "      <th>0</th>\n",
       "      <td>generar respuesta</td>\n",
       "      <td>Great! Here is an interview question related...</td>\n",
       "      <td>Certainly! I recall an instance where I enco...</td>\n",
       "      <td>4bit</td>\n",
       "      <td>18.881478</td>\n",
       "    </tr>\n",
       "    <tr>\n",
       "      <th>1</th>\n",
       "      <td>generar respuesta</td>\n",
       "      <td>Great, thank you! For a Yoga Monitoring posi...</td>\n",
       "      <td>Of course! As a passionate and experienced Y...</td>\n",
       "      <td>4bit</td>\n",
       "      <td>12.524664</td>\n",
       "    </tr>\n",
       "    <tr>\n",
       "      <th>2</th>\n",
       "      <td>generar respuesta</td>\n",
       "      <td>Great, thank you for letting me know! Here's...</td>\n",
       "      <td>Absolutely! As an endocrinologist, I have en...</td>\n",
       "      <td>4bit</td>\n",
       "      <td>23.611794</td>\n",
       "    </tr>\n",
       "    <tr>\n",
       "      <th>3</th>\n",
       "      <td>generar respuesta</td>\n",
       "      <td>Great! Here's an interview question for a Da...</td>\n",
       "      <td>Absolutely! Here's my answer:\\n\\nIn my previ...</td>\n",
       "      <td>4bit</td>\n",
       "      <td>23.364424</td>\n",
       "    </tr>\n",
       "    <tr>\n",
       "      <th>4</th>\n",
       "      <td>generar respuesta</td>\n",
       "      <td>Question:\\n\\n\"Can you give an example of how...</td>\n",
       "      <td>Of course! Here's my response:\\n\\nAs a seaso...</td>\n",
       "      <td>4bit</td>\n",
       "      <td>33.813279</td>\n",
       "    </tr>\n",
       "    <tr>\n",
       "      <th>0</th>\n",
       "      <td>generar evaluacion</td>\n",
       "      <td>Question:   Great! Here is an interview questi...</td>\n",
       "      <td>Score: 0\\n\\nBrief explanation: The candidate...</td>\n",
       "      <td>4bit</td>\n",
       "      <td>9.365030</td>\n",
       "    </tr>\n",
       "    <tr>\n",
       "      <th>1</th>\n",
       "      <td>generar evaluacion</td>\n",
       "      <td>Question:   Great, thank you! For a Yoga Monit...</td>\n",
       "      <td>Score: 0\\nBrief explanation: The candidate r...</td>\n",
       "      <td>4bit</td>\n",
       "      <td>7.693923</td>\n",
       "    </tr>\n",
       "    <tr>\n",
       "      <th>2</th>\n",
       "      <td>generar evaluacion</td>\n",
       "      <td>Question:   Great, thank you for letting me kn...</td>\n",
       "      <td>Score: 1\\n\\nExplanation: The candidate's res...</td>\n",
       "      <td>4bit</td>\n",
       "      <td>10.921520</td>\n",
       "    </tr>\n",
       "    <tr>\n",
       "      <th>3</th>\n",
       "      <td>generar evaluacion</td>\n",
       "      <td>Question:   Great! Here's an interview questio...</td>\n",
       "      <td>Score: 4\\n\\nExplanation: The candidate provi...</td>\n",
       "      <td>4bit</td>\n",
       "      <td>21.223644</td>\n",
       "    </tr>\n",
       "    <tr>\n",
       "      <th>4</th>\n",
       "      <td>generar evaluacion</td>\n",
       "      <td>Question:   Question:\\n\\n\"Can you give an exam...</td>\n",
       "      <td>Score: 5\\n\\nExplanation:\\n\\nWow, what an imp...</td>\n",
       "      <td>4bit</td>\n",
       "      <td>14.992787</td>\n",
       "    </tr>\n",
       "  </tbody>\n",
       "</table>\n",
       "</div>"
      ],
      "text/plain": [
       "               accion                                             prompt  \\\n",
       "0    generar pregunta                                        Bee keeping   \n",
       "1    generar pregunta                                    Yoga monitoring   \n",
       "2    generar pregunta             Medicine expecialised in endocrinology   \n",
       "3    generar pregunta                                       Data Science   \n",
       "4    generar pregunta          Prdoduct Managing for a Coding Department   \n",
       "0   generar respuesta    Great! Here is an interview question related...   \n",
       "1   generar respuesta    Great, thank you! For a Yoga Monitoring posi...   \n",
       "2   generar respuesta    Great, thank you for letting me know! Here's...   \n",
       "3   generar respuesta    Great! Here's an interview question for a Da...   \n",
       "4   generar respuesta    Question:\\n\\n\"Can you give an example of how...   \n",
       "0  generar evaluacion  Question:   Great! Here is an interview questi...   \n",
       "1  generar evaluacion  Question:   Great, thank you! For a Yoga Monit...   \n",
       "2  generar evaluacion  Question:   Great, thank you for letting me kn...   \n",
       "3  generar evaluacion  Question:   Great! Here's an interview questio...   \n",
       "4  generar evaluacion  Question:   Question:\\n\\n\"Can you give an exam...   \n",
       "\n",
       "                                           respuesta cuant     tiempo  \n",
       "0    Great! Here is an interview question related...  4bit  25.473019  \n",
       "1    Great, thank you! For a Yoga Monitoring posi...  4bit  27.839953  \n",
       "2    Great, thank you for letting me know! Here's...  4bit  11.541685  \n",
       "3    Great! Here's an interview question for a Da...  4bit   6.797841  \n",
       "4    Question:\\n\\n\"Can you give an example of how...  4bit   5.618583  \n",
       "0    Certainly! I recall an instance where I enco...  4bit  18.881478  \n",
       "1    Of course! As a passionate and experienced Y...  4bit  12.524664  \n",
       "2    Absolutely! As an endocrinologist, I have en...  4bit  23.611794  \n",
       "3    Absolutely! Here's my answer:\\n\\nIn my previ...  4bit  23.364424  \n",
       "4    Of course! Here's my response:\\n\\nAs a seaso...  4bit  33.813279  \n",
       "0    Score: 0\\n\\nBrief explanation: The candidate...  4bit   9.365030  \n",
       "1    Score: 0\\nBrief explanation: The candidate r...  4bit   7.693923  \n",
       "2    Score: 1\\n\\nExplanation: The candidate's res...  4bit  10.921520  \n",
       "3    Score: 4\\n\\nExplanation: The candidate provi...  4bit  21.223644  \n",
       "4    Score: 5\\n\\nExplanation:\\n\\nWow, what an imp...  4bit  14.992787  "
      ]
     },
     "execution_count": 28,
     "metadata": {},
     "output_type": "execute_result"
    }
   ],
   "source": [
    "df_final"
   ]
  },
  {
   "cell_type": "code",
   "execution_count": 29,
   "metadata": {},
   "outputs": [],
   "source": [
    "df_final.to_csv(\"ejemplos4bit.csv\", index=False)"
   ]
  }
 ],
 "metadata": {
  "kernelspec": {
   "display_name": "AIWantTheJob",
   "language": "python",
   "name": "python3"
  },
  "language_info": {
   "codemirror_mode": {
    "name": "ipython",
    "version": 3
   },
   "file_extension": ".py",
   "mimetype": "text/x-python",
   "name": "python",
   "nbconvert_exporter": "python",
   "pygments_lexer": "ipython3",
   "version": "3.11.9"
  }
 },
 "nbformat": 4,
 "nbformat_minor": 2
}
