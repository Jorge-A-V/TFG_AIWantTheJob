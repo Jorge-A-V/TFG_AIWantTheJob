{
 "cells": [
  {
   "cell_type": "markdown",
   "metadata": {},
   "source": [
    "# Test del Uso intencionado del Nemo (integración)"
   ]
  },
  {
   "cell_type": "code",
   "execution_count": 2,
   "metadata": {},
   "outputs": [],
   "source": [
    "import sys\n",
    "\n",
    "# importamos el modulo de funciones\n",
    "sys.path.append(\"../..\")"
   ]
  },
  {
   "cell_type": "code",
   "execution_count": 3,
   "metadata": {},
   "outputs": [
    {
     "name": "stderr",
     "output_type": "stream",
     "text": [
      "/home/jorge/miniconda3/envs/AIWantTheJob/lib/python3.11/site-packages/tqdm/auto.py:21: TqdmWarning: IProgress not found. Please update jupyter and ipywidgets. See https://ipywidgets.readthedocs.io/en/stable/user_install.html\n",
      "  from .autonotebook import tqdm as notebook_tqdm\n"
     ]
    }
   ],
   "source": [
    "from backend.modelo_ia.vector_store import VectoreStore\n",
    "from backend.modelo_ia.generic_llm import LLM\n",
    "from backend.modelo_ia.nemo_core import NemoCore\n",
    "from backend.modelo_ia.nemo_config import NemoConfig"
   ]
  },
  {
   "cell_type": "markdown",
   "metadata": {},
   "source": [
    "### Iniciaciones Previas"
   ]
  },
  {
   "cell_type": "code",
   "execution_count": 4,
   "metadata": {},
   "outputs": [
    {
     "name": "stderr",
     "output_type": "stream",
     "text": [
      "/home/jorge/miniconda3/envs/AIWantTheJob/lib/python3.11/site-packages/huggingface_hub/file_download.py:1132: FutureWarning: `resume_download` is deprecated and will be removed in version 1.0.0. Downloads always resume when possible. If you want to force a new download, use `force_download=True`.\n",
      "  warnings.warn(\n",
      "Loading checkpoint shards: 100%|██████████| 2/2 [00:12<00:00,  6.06s/it]\n"
     ]
    }
   ],
   "source": [
    "vs = VectoreStore()\n",
    "llm = LLM()\n",
    "config = NemoConfig(\"meta-llama/Llama-2-7b-chat-hf\")"
   ]
  },
  {
   "cell_type": "markdown",
   "metadata": {},
   "source": [
    "### Test se inicia"
   ]
  },
  {
   "cell_type": "code",
   "execution_count": 5,
   "metadata": {},
   "outputs": [
    {
     "name": "stderr",
     "output_type": "stream",
     "text": [
      "Fetching 5 files: 100%|██████████| 5/5 [00:00<00:00, 67216.41it/s]\n"
     ]
    }
   ],
   "source": [
    "Nemo = NemoCore(vs, config, llm)"
   ]
  },
  {
   "cell_type": "code",
   "execution_count": 5,
   "metadata": {},
   "outputs": [
    {
     "data": {
      "text/plain": [
       "True"
      ]
     },
     "execution_count": 5,
     "metadata": {},
     "output_type": "execute_result"
    }
   ],
   "source": [
    "Nemo is not None"
   ]
  },
  {
   "cell_type": "markdown",
   "metadata": {},
   "source": [
    "### Test funcionan los comportamientos"
   ]
  },
  {
   "cell_type": "code",
   "execution_count": 6,
   "metadata": {},
   "outputs": [
    {
     "name": "stdout",
     "output_type": "stream",
     "text": [
      "Data Science\n",
      "Some general context you may use is: []\\The specific context is: []\n",
      "You are an experienced job interviewer. Your task is to generate a single, relevant interview question based on the given topic or job position. The question should be thought-provoking and designed to assess the candidate's skills, experience, or fit for the role. Provide only the question with the minimal human small talk commentary or explanation. Data Science\n",
      "Some general context you may use is: []\\The specific context is: []\n",
      "Res: {'role': 'assistant', 'content': \"  Sure! Here's an interview question for a Data Science position:\\n\\nQuestion: Can you tell us about a time when you had to navigate a complex dataset, identify patterns and relationships within it, and communicate your findings to both technical and non-technical stakeholders? How did you approach this challenge, and what were the key takeaways from your experience?\"}\n"
     ]
    }
   ],
   "source": [
    "pregunta = await Nemo.processCall(\"Data Science\", \"question\")"
   ]
  },
  {
   "cell_type": "code",
   "execution_count": 7,
   "metadata": {},
   "outputs": [
    {
     "data": {
      "text/plain": [
       "True"
      ]
     },
     "execution_count": 7,
     "metadata": {},
     "output_type": "execute_result"
    }
   ],
   "source": [
    "pregunta is not None"
   ]
  },
  {
   "cell_type": "code",
   "execution_count": 8,
   "metadata": {},
   "outputs": [
    {
     "name": "stdout",
     "output_type": "stream",
     "text": [
      "  Sure! Here's an interview question for a Data Science position:\n",
      "\n",
      "Question: Can you tell us about a time when you had to navigate a complex dataset, identify patterns and relationships within it, and communicate your findings to both technical and non-technical stakeholders? How did you approach this challenge, and what were the key takeaways from your experience?\n",
      "Some general context you may use is: []\\The specific context is: []\n",
      "Some similar examples found are: False\n",
      "You are a job candidate in an interview. Your task is to provide a concise, professional answer to the given interview question. Your response should demonstrate relevant skills, experience, or qualities that would make you a strong candidate for the position. Answer as a human would, with a balance of confidence and humility. Provide only the answer without any additional commentary.   Sure! Here's an interview question for a Data Science position:\n",
      "\n",
      "Question: Can you tell us about a time when you had to navigate a complex dataset, identify patterns and relationships within it, and communicate your findings to both technical and non-technical stakeholders? How did you approach this challenge, and what were the key takeaways from your experience?\n",
      "Some general context you may use is: []\\The specific context is: []\n",
      "Some similar examples found are: False\n",
      "Res: {'role': 'assistant', 'content': '  Of course! Here is my answer to the interview question:\\n\\nI once worked on a project where I was tasked with analyzing a large and complex dataset containing various types of data such as customer demographics, transaction records, and product preferences. My goal was to identify patterns and trends in the data, which could help inform strategic business decisions. To approach this challenge, I first conducted exploratory data analysis (EDA) to understand the dataset better. Through visualization and summary statistics, I identified important features like the skewed distribution of income levels among our customers. Next, I applied statistical techniques such as regression analysis and clustering algorithms to discover patterns in the data. These included Customer segments with similar spending behaviors, products that had high demand across different regions, and marketing channels with positive returns. Communicating these findings to technical and non-technical stakeholders involved creating clear visualizations and presentations. For instance, I built interactive dashboards to showcase customer trends in real-time. Additionally, I wrote reports summarizing the research findings and providing actionable recommendations for future business initiatives. Overall, this experience taught me the importance of combining technical prowess with effective communication. It demonstrated how navigating complexity, identifying meaningful patterns, and distilling results into action items can be crucial in applying data science principles practically.'}\n"
     ]
    }
   ],
   "source": [
    "respuesta = await Nemo.processCall(pregunta[\"content\"], \"example\")"
   ]
  },
  {
   "cell_type": "code",
   "execution_count": 9,
   "metadata": {},
   "outputs": [
    {
     "data": {
      "text/plain": [
       "True"
      ]
     },
     "execution_count": 9,
     "metadata": {},
     "output_type": "execute_result"
    }
   ],
   "source": [
    "respuesta is not None"
   ]
  },
  {
   "cell_type": "code",
   "execution_count": 10,
   "metadata": {},
   "outputs": [
    {
     "name": "stdout",
     "output_type": "stream",
     "text": [
      "  Of course! Here is my answer to the interview question:\n",
      "\n",
      "I once worked on a project where I was tasked with analyzing a large and complex dataset containing various types of data such as customer demographics, transaction records, and product preferences. My goal was to identify patterns and trends in the data, which could help inform strategic business decisions. To approach this challenge, I first conducted exploratory data analysis (EDA) to understand the dataset better. Through visualization and summary statistics, I identified important features like the skewed distribution of income levels among our customers. Next, I applied statistical techniques such as regression analysis and clustering algorithms to discover patterns in the data. These included Customer segments with similar spending behaviors, products that had high demand across different regions, and marketing channels with positive returns. Communicating these findings to technical and non-technical stakeholders involved creating clear visualizations and presentations. For instance, I built interactive dashboards to showcase customer trends in real-time. Additionally, I wrote reports summarizing the research findings and providing actionable recommendations for future business initiatives. Overall, this experience taught me the importance of combining technical prowess with effective communication. It demonstrated how navigating complexity, identifying meaningful patterns, and distilling results into action items can be crucial in applying data science principles practically.\n",
      "Some general context you may use is: []\\The specific context is: []\n",
      "Some similar examples found are: False\n",
      "You are an expert hiring manager evaluating candidates' responses to interview questions. Your task is to assess the given answer based on its relevance, accuracy, and effectiveness. Use the following scale for evaluation:\n",
      "\n",
      "0 - Refuses to answer\n",
      "1 - Poor: Answer is off-topic or inadequate\n",
      "2 - Fair: Answer is somewhat relevant but lacks depth or clarity\n",
      "3 - Good: Answer is relevant and demonstrates basic understanding\n",
      "4 - Very Good: Answer is well-articulated and shows strong relevant skills or experience\n",
      "5 - Excellent: Answer is exceptional, demonstrating deep understanding and outstanding fit for the role\n",
      "\n",
      "Provide your evaluation in the following format:\n",
      "Score: [0-5]\n",
      "Brief explanation: [Your concise assessment of the answer's strengths and weaknesses with humanlike writting]\n",
      "\n",
      "   Of course! Here is my answer to the interview question:\n",
      "\n",
      "I once worked on a project where I was tasked with analyzing a large and complex dataset containing various types of data such as customer demographics, transaction records, and product preferences. My goal was to identify patterns and trends in the data, which could help inform strategic business decisions. To approach this challenge, I first conducted exploratory data analysis (EDA) to understand the dataset better. Through visualization and summary statistics, I identified important features like the skewed distribution of income levels among our customers. Next, I applied statistical techniques such as regression analysis and clustering algorithms to discover patterns in the data. These included Customer segments with similar spending behaviors, products that had high demand across different regions, and marketing channels with positive returns. Communicating these findings to technical and non-technical stakeholders involved creating clear visualizations and presentations. For instance, I built interactive dashboards to showcase customer trends in real-time. Additionally, I wrote reports summarizing the research findings and providing actionable recommendations for future business initiatives. Overall, this experience taught me the importance of combining technical prowess with effective communication. It demonstrated how navigating complexity, identifying meaningful patterns, and distilling results into action items can be crucial in applying data science principles practically.\n",
      "Some general context you may use is: []\\The specific context is: []\n",
      "Some similar examples found are: False\n",
      "Res: {'role': 'assistant', 'content': \"  Score: 4\\nBrief explanation: The candidate provides a comprehensive and well-structured answer to the question, effectively demonstrating their skills and experience in analyzing complex datasets. They begin by describing their process of conducting exploratory data analysis (EDA), including visualization and summary statistics, to gain a deeper understanding of the dataset. They then apply statistical techniques such as regression analysis and clustering algorithms to identify patterns and trends in the data. The candidate also effectively communicates their findings to both technical and non-technical stakeholders through clean and clear visualizations, as well as written reports summarizing the research findings and providing actionable recommendations for future business initiatives.\\n\\nThe candidate's answer is particularly strong due to several reasons:\\n\\n* They clearly outline their thought process and methodology throughout the problem-solving process, making it easy to follow along and understand how they arrived at their conclusions.\\n* They demonstrate a good understanding of statistical concepts and techniques, including clustering and regression analysis, which are essential for data analysis.\\n* They communicate their findings effectively to multiple audiences through various means, highlighting their ability to tailor their communication style to different stakeholders.\\n\\nOne area where the candidate could improve is in providing even more detailed explanations of their thought process and methodology. While they do a good job of explaining how they approached the problem, additional details on things like algorithm selection, data preprocessing steps, and sensitivity analyses would further illustrate their technical skills and attention to detail. Nonetheless, overall this response represents a strong effort from the candidate, demonstrating their proficiency in data analysis and strategic thinking.\"}\n"
     ]
    }
   ],
   "source": [
    "evaluacion = await Nemo.processCall(respuesta[\"content\"], \"answer\")"
   ]
  },
  {
   "cell_type": "code",
   "execution_count": 11,
   "metadata": {},
   "outputs": [
    {
     "data": {
      "text/plain": [
       "True"
      ]
     },
     "execution_count": 11,
     "metadata": {},
     "output_type": "execute_result"
    }
   ],
   "source": [
    "evaluacion is not None"
   ]
  },
  {
   "cell_type": "code",
   "execution_count": 12,
   "metadata": {},
   "outputs": [
    {
     "data": {
      "text/plain": [
       "{'role': 'assistant',\n",
       " 'content': \"  Sure! Here's an interview question for a Data Science position:\\n\\nQuestion: Can you tell us about a time when you had to navigate a complex dataset, identify patterns and relationships within it, and communicate your findings to both technical and non-technical stakeholders? How did you approach this challenge, and what were the key takeaways from your experience?\"}"
      ]
     },
     "execution_count": 12,
     "metadata": {},
     "output_type": "execute_result"
    }
   ],
   "source": [
    "pregunta"
   ]
  },
  {
   "cell_type": "code",
   "execution_count": 13,
   "metadata": {},
   "outputs": [
    {
     "data": {
      "text/plain": [
       "{'role': 'assistant',\n",
       " 'content': '  Of course! Here is my answer to the interview question:\\n\\nI once worked on a project where I was tasked with analyzing a large and complex dataset containing various types of data such as customer demographics, transaction records, and product preferences. My goal was to identify patterns and trends in the data, which could help inform strategic business decisions. To approach this challenge, I first conducted exploratory data analysis (EDA) to understand the dataset better. Through visualization and summary statistics, I identified important features like the skewed distribution of income levels among our customers. Next, I applied statistical techniques such as regression analysis and clustering algorithms to discover patterns in the data. These included Customer segments with similar spending behaviors, products that had high demand across different regions, and marketing channels with positive returns. Communicating these findings to technical and non-technical stakeholders involved creating clear visualizations and presentations. For instance, I built interactive dashboards to showcase customer trends in real-time. Additionally, I wrote reports summarizing the research findings and providing actionable recommendations for future business initiatives. Overall, this experience taught me the importance of combining technical prowess with effective communication. It demonstrated how navigating complexity, identifying meaningful patterns, and distilling results into action items can be crucial in applying data science principles practically.'}"
      ]
     },
     "execution_count": 13,
     "metadata": {},
     "output_type": "execute_result"
    }
   ],
   "source": [
    "respuesta"
   ]
  },
  {
   "cell_type": "code",
   "execution_count": 14,
   "metadata": {},
   "outputs": [
    {
     "data": {
      "text/plain": [
       "{'role': 'assistant',\n",
       " 'content': \"  Score: 4\\nBrief explanation: The candidate provides a comprehensive and well-structured answer to the question, effectively demonstrating their skills and experience in analyzing complex datasets. They begin by describing their process of conducting exploratory data analysis (EDA), including visualization and summary statistics, to gain a deeper understanding of the dataset. They then apply statistical techniques such as regression analysis and clustering algorithms to identify patterns and trends in the data. The candidate also effectively communicates their findings to both technical and non-technical stakeholders through clean and clear visualizations, as well as written reports summarizing the research findings and providing actionable recommendations for future business initiatives.\\n\\nThe candidate's answer is particularly strong due to several reasons:\\n\\n* They clearly outline their thought process and methodology throughout the problem-solving process, making it easy to follow along and understand how they arrived at their conclusions.\\n* They demonstrate a good understanding of statistical concepts and techniques, including clustering and regression analysis, which are essential for data analysis.\\n* They communicate their findings effectively to multiple audiences through various means, highlighting their ability to tailor their communication style to different stakeholders.\\n\\nOne area where the candidate could improve is in providing even more detailed explanations of their thought process and methodology. While they do a good job of explaining how they approached the problem, additional details on things like algorithm selection, data preprocessing steps, and sensitivity analyses would further illustrate their technical skills and attention to detail. Nonetheless, overall this response represents a strong effort from the candidate, demonstrating their proficiency in data analysis and strategic thinking.\"}"
      ]
     },
     "execution_count": 14,
     "metadata": {},
     "output_type": "execute_result"
    }
   ],
   "source": [
    "evaluacion"
   ]
  },
  {
   "cell_type": "markdown",
   "metadata": {},
   "source": [
    "#### El modelo se sigue adheriendo al contexto"
   ]
  },
  {
   "cell_type": "markdown",
   "metadata": {},
   "source": [
    "### Probamos la influencia del RAG"
   ]
  },
  {
   "cell_type": "code",
   "execution_count": 15,
   "metadata": {},
   "outputs": [],
   "source": [
    "Nemo.update_db(\"ragPDF.pdf\", remove=False)"
   ]
  },
  {
   "cell_type": "code",
   "execution_count": 16,
   "metadata": {},
   "outputs": [
    {
     "name": "stdout",
     "output_type": "stream",
     "text": [
      "Medicine\n",
      "Some general context you may use is: []\\The specific context is: ['Medicine Example questions:\\nWhat are the major differences between viral and bacterial infections, and how are they\\ntreated differently?\\nDescribe the process of how vaccines work and their importance in preventing diseases.\\nWhat are the main causes and risk factors associated with cardiovascular diseases?\\nExplain the role of antibiotics in combating bacterial infections and the issue of antibiotic\\nresistance.\\nHow does the immune system function, and what are some common disorders related to\\nimmune dysfunction?']\n",
      "You are an experienced job interviewer. Your task is to generate a single, relevant interview question based on the given topic or job position. The question should be thought-provoking and designed to assess the candidate's skills, experience, or fit for the role. Provide only the question with the minimal human small talk commentary or explanation. Medicine\n",
      "Some general context you may use is: []\\The specific context is: ['Medicine Example questions:\\nWhat are the major differences between viral and bacterial infections, and how are they\\ntreated differently?\\nDescribe the process of how vaccines work and their importance in preventing diseases.\\nWhat are the main causes and risk factors associated with cardiovascular diseases?\\nExplain the role of antibiotics in combating bacterial infections and the issue of antibiotic\\nresistance.\\nHow does the immune system function, and what are some common disorders related to\\nimmune dysfunction?']\n",
      "Res: {'role': 'assistant', 'content': '  Question: Can you explain the relationship between the type of microorganism causing an infection and the appropriate treatment method?'}\n"
     ]
    }
   ],
   "source": [
    "nueva_respuesta = await Nemo.processCall(\"Medicine\", \"question\")"
   ]
  },
  {
   "cell_type": "code",
   "execution_count": 17,
   "metadata": {},
   "outputs": [
    {
     "data": {
      "text/plain": [
       "{'role': 'assistant',\n",
       " 'content': '  Question: Can you explain the relationship between the type of microorganism causing an infection and the appropriate treatment method?'}"
      ]
     },
     "execution_count": 17,
     "metadata": {},
     "output_type": "execute_result"
    }
   ],
   "source": [
    "nueva_respuesta"
   ]
  },
  {
   "cell_type": "markdown",
   "metadata": {},
   "source": [
    "### Se aprecia el uso del contexto"
   ]
  },
  {
   "cell_type": "markdown",
   "metadata": {},
   "source": [
    "## Los TEST SE PASAN"
   ]
  }
 ],
 "metadata": {
  "kernelspec": {
   "display_name": "AIWantTheJob",
   "language": "python",
   "name": "python3"
  },
  "language_info": {
   "codemirror_mode": {
    "name": "ipython",
    "version": 3
   },
   "file_extension": ".py",
   "mimetype": "text/x-python",
   "name": "python",
   "nbconvert_exporter": "python",
   "pygments_lexer": "ipython3",
   "version": "3.11.9"
  }
 },
 "nbformat": 4,
 "nbformat_minor": 2
}
