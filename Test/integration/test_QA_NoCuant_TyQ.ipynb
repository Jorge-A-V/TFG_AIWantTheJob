{
 "cells": [
  {
   "cell_type": "markdown",
   "metadata": {},
   "source": [
    "### Test de calidad de respuestas a 4bits (integración y usabilidad)"
   ]
  },
  {
   "cell_type": "markdown",
   "metadata": {},
   "source": [
    "### Si vas justo de espacio alomejor se tiene que ejecutar a tandadas (como me pasó a mi)"
   ]
  },
  {
   "cell_type": "markdown",
   "metadata": {},
   "source": [
    "### Inicializamos el nemo"
   ]
  },
  {
   "cell_type": "code",
   "execution_count": 1,
   "metadata": {},
   "outputs": [],
   "source": [
    "import sys\n",
    "\n",
    "# importamos el modulo de funciones\n",
    "sys.path.append(\"../..\")"
   ]
  },
  {
   "cell_type": "code",
   "execution_count": 2,
   "metadata": {},
   "outputs": [
    {
     "name": "stderr",
     "output_type": "stream",
     "text": [
      "/home/jorge/miniconda3/envs/AIWantTheJob/lib/python3.11/site-packages/tqdm/auto.py:21: TqdmWarning: IProgress not found. Please update jupyter and ipywidgets. See https://ipywidgets.readthedocs.io/en/stable/user_install.html\n",
      "  from .autonotebook import tqdm as notebook_tqdm\n"
     ]
    }
   ],
   "source": [
    "from backend.modelo_ia.vector_store import VectoreStore\n",
    "from backend.modelo_ia.generic_llm import LLM\n",
    "from backend.modelo_ia.nemo_core import NemoCore\n",
    "from backend.modelo_ia.nemo_config import NemoConfig"
   ]
  },
  {
   "cell_type": "code",
   "execution_count": 3,
   "metadata": {},
   "outputs": [
    {
     "name": "stdout",
     "output_type": "stream",
     "text": [
      "No cuant False\n"
     ]
    },
    {
     "name": "stderr",
     "output_type": "stream",
     "text": [
      "/home/jorge/miniconda3/envs/AIWantTheJob/lib/python3.11/site-packages/huggingface_hub/file_download.py:1132: FutureWarning: `resume_download` is deprecated and will be removed in version 1.0.0. Downloads always resume when possible. If you want to force a new download, use `force_download=True`.\n",
      "  warnings.warn(\n",
      "Loading checkpoint shards: 100%|██████████| 2/2 [00:04<00:00,  2.04s/it]\n",
      "WARNING:root:Some parameters are on the meta device device because they were offloaded to the cpu.\n"
     ]
    }
   ],
   "source": [
    "llm = LLM(loading_mode=\"No cuant\")\n",
    "config = NemoConfig(\"meta-llama/Llama-2-7b-chat-hf\")"
   ]
  },
  {
   "cell_type": "code",
   "execution_count": null,
   "metadata": {},
   "outputs": [],
   "source": [
    "vs = VectoreStore()"
   ]
  },
  {
   "cell_type": "code",
   "execution_count": 4,
   "metadata": {},
   "outputs": [
    {
     "name": "stderr",
     "output_type": "stream",
     "text": [
      "Fetching 5 files: 100%|██████████| 5/5 [00:00<00:00, 77961.04it/s]\n"
     ]
    }
   ],
   "source": [
    "Nemo = NemoCore(vs, config, llm)"
   ]
  },
  {
   "cell_type": "markdown",
   "metadata": {},
   "source": [
    "### Cargamos las preguntas del DataFrame (topics)"
   ]
  },
  {
   "cell_type": "code",
   "execution_count": 4,
   "metadata": {},
   "outputs": [],
   "source": [
    "import time"
   ]
  },
  {
   "cell_type": "code",
   "execution_count": 5,
   "metadata": {},
   "outputs": [],
   "source": [
    "import pandas as pd\n",
    "\n",
    "df_preg = pd.DataFrame(columns=[\"accion\", \"prompt\", \"respuesta\", \"cuant\", \"tiempo\"])\n",
    "df_res = pd.DataFrame(columns=[\"accion\", \"prompt\", \"respuesta\", \"cuant\", \"tiempo\"])\n",
    "df_eval = pd.DataFrame(columns=[\"accion\", \"prompt\", \"respuesta\", \"cuant\", \"tiempo\"])"
   ]
  },
  {
   "cell_type": "markdown",
   "metadata": {},
   "source": [
    "### Generamos preguntas"
   ]
  },
  {
   "cell_type": "code",
   "execution_count": 6,
   "metadata": {},
   "outputs": [],
   "source": [
    "topicos = [\n",
    "    \"Bee keeping\",\n",
    "    \"Yoga monitoring\",\n",
    "    \"Medicine expecialised in endocrinology\",\n",
    "    \"Data Science\",\n",
    "    \"Prdoduct Managing for a Coding Department\",\n",
    "]"
   ]
  },
  {
   "cell_type": "code",
   "execution_count": 8,
   "metadata": {},
   "outputs": [
    {
     "name": "stdout",
     "output_type": "stream",
     "text": [
      "Bee keeping\n",
      "Some general context you may use is: []\\The specific context is: []\n",
      "You are an experienced job interviewer. Your task is to generate a single, relevant interview question based on the given topic or job position. The question should be thought-provoking and designed to assess the candidate's skills, experience, or fit for the role. Provide only the question with the minimal human small talk commentary or explanation. Bee keeping\n",
      "Some general context you may use is: []\\The specific context is: []\n",
      "Res: {'role': 'assistant', 'content': \"  Great! Here's an interview question related to Bee Keeping:\\n\\nQuestion: Can you describe a time when you encountered a challenging situation in your beehive, and how did you go about resolving it?\"}\n",
      "Yoga monitoring\n",
      "Some general context you may use is: []\\The specific context is: []\n",
      "You are an experienced job interviewer. Your task is to generate a single, relevant interview question based on the given topic or job position. The question should be thought-provoking and designed to assess the candidate's skills, experience, or fit for the role. Provide only the question with the minimal human small talk commentary or explanation. Yoga monitoring\n",
      "Some general context you may use is: []\\The specific context is: []\n",
      "Res: {'role': 'assistant', 'content': '  Great! Here is a sample interview question based on the topic of yoga monitoring:\\n\\nQuestion: Can you describe a time when you had to monitor the progress of multiple clients simultaneously in their yoga practices? How did you ensure that each client received personalized attention while also meeting your deadlines and maintaining quality standards? (Minimal Human Small Talk Commentary)'}\n",
      "Medicine expecialised in endocrinology\n",
      "Some general context you may use is: []\\The specific context is: []\n",
      "You are an experienced job interviewer. Your task is to generate a single, relevant interview question based on the given topic or job position. The question should be thought-provoking and designed to assess the candidate's skills, experience, or fit for the role. Provide only the question with the minimal human small talk commentary or explanation. Medicine expecialised in endocrinology\n",
      "Some general context you may use is: []\\The specific context is: []\n",
      "Res: {'role': 'assistant', 'content': '  Great! For a Medicine specialization in Endocrinology, here\\'s a thoughtful interview question:\\n\\nQuestion: \"Can you share an example of how you have worked effectively with patients who require complex medication regimens due to chronic hormone imbalances? How do you ensure these patients adhere to their treatment plans while minimizing potential side effects?\"'}\n",
      "Data Science\n",
      "Some general context you may use is: []\\The specific context is: []\n",
      "You are an experienced job interviewer. Your task is to generate a single, relevant interview question based on the given topic or job position. The question should be thought-provoking and designed to assess the candidate's skills, experience, or fit for the role. Provide only the question with the minimal human small talk commentary or explanation. Data Science\n",
      "Some general context you may use is: []\\The specific context is: []\n",
      "Res: {'role': 'assistant', 'content': \"  Great! Here's an interview question for a Data Science position:\\n\\nQuestion: Can you describe a situation where you identified patterns in complex data that led to unexpected insights? How did you visualize and communicate these findings to stakeholders?\"}\n",
      "Prdoduct Managing for a Coding Department\n",
      "Some general context you may use is: []\\The specific context is: []\n",
      "You are an experienced job interviewer. Your task is to generate a single, relevant interview question based on the given topic or job position. The question should be thought-provoking and designed to assess the candidate's skills, experience, or fit for the role. Provide only the question with the minimal human small talk commentary or explanation. Prdoduct Managing for a Coding Department\n",
      "Some general context you may use is: []\\The specific context is: []\n",
      "Res: {'role': 'assistant', 'content': \"  Great! Here is an interview question for a Product Manager position in a coding department:\\n\\nQuestion: Can you describe a time when you had to make a difficult technical decision that impacted a project's success? How did you approach the problem, and what was the outcome?\"}\n"
     ]
    }
   ],
   "source": [
    "preguntas = []\n",
    "tiempos = []\n",
    "for topico in topicos:\n",
    "    t1 = time.time()\n",
    "    answer = await Nemo.processCall(topico, \"question\")\n",
    "    t2 = time.time()\n",
    "    preguntas.append(answer[\"content\"])\n",
    "    tiempos.append(t2-t1)"
   ]
  },
  {
   "cell_type": "code",
   "execution_count": 9,
   "metadata": {},
   "outputs": [
    {
     "data": {
      "text/plain": [
       "([\"  Great! Here's an interview question related to Bee Keeping:\\n\\nQuestion: Can you describe a time when you encountered a challenging situation in your beehive, and how did you go about resolving it?\",\n",
       "  '  Great! Here is a sample interview question based on the topic of yoga monitoring:\\n\\nQuestion: Can you describe a time when you had to monitor the progress of multiple clients simultaneously in their yoga practices? How did you ensure that each client received personalized attention while also meeting your deadlines and maintaining quality standards? (Minimal Human Small Talk Commentary)',\n",
       "  '  Great! For a Medicine specialization in Endocrinology, here\\'s a thoughtful interview question:\\n\\nQuestion: \"Can you share an example of how you have worked effectively with patients who require complex medication regimens due to chronic hormone imbalances? How do you ensure these patients adhere to their treatment plans while minimizing potential side effects?\"',\n",
       "  \"  Great! Here's an interview question for a Data Science position:\\n\\nQuestion: Can you describe a situation where you identified patterns in complex data that led to unexpected insights? How did you visualize and communicate these findings to stakeholders?\",\n",
       "  \"  Great! Here is an interview question for a Product Manager position in a coding department:\\n\\nQuestion: Can you describe a time when you had to make a difficult technical decision that impacted a project's success? How did you approach the problem, and what was the outcome?\"],\n",
       " [134.74352192878723,\n",
       "  284.2281138896942,\n",
       "  259.97467494010925,\n",
       "  264.5948894023895,\n",
       "  251.60053372383118])"
      ]
     },
     "execution_count": 9,
     "metadata": {},
     "output_type": "execute_result"
    }
   ],
   "source": [
    "preguntas, tiempos"
   ]
  },
  {
   "cell_type": "code",
   "execution_count": 10,
   "metadata": {},
   "outputs": [],
   "source": [
    "df_preg[\"accion\"] = [\"generar pregunta\" for i in range(len(topicos))]\n",
    "df_preg[\"prompt\"] = topicos\n",
    "df_preg[\"respuesta\"] = preguntas\n",
    "df_preg[\"cuant\"] = [\"No Cuantization\" for i in range(len(topicos))]\n",
    "df_preg[\"tiempo\"] = tiempos"
   ]
  },
  {
   "cell_type": "code",
   "execution_count": 11,
   "metadata": {},
   "outputs": [
    {
     "data": {
      "text/html": [
       "<div>\n",
       "<style scoped>\n",
       "    .dataframe tbody tr th:only-of-type {\n",
       "        vertical-align: middle;\n",
       "    }\n",
       "\n",
       "    .dataframe tbody tr th {\n",
       "        vertical-align: top;\n",
       "    }\n",
       "\n",
       "    .dataframe thead th {\n",
       "        text-align: right;\n",
       "    }\n",
       "</style>\n",
       "<table border=\"1\" class=\"dataframe\">\n",
       "  <thead>\n",
       "    <tr style=\"text-align: right;\">\n",
       "      <th></th>\n",
       "      <th>accion</th>\n",
       "      <th>prompt</th>\n",
       "      <th>respuesta</th>\n",
       "      <th>cuant</th>\n",
       "      <th>tiempo</th>\n",
       "    </tr>\n",
       "  </thead>\n",
       "  <tbody>\n",
       "    <tr>\n",
       "      <th>0</th>\n",
       "      <td>generar pregunta</td>\n",
       "      <td>Bee keeping</td>\n",
       "      <td>Great! Here's an interview question related ...</td>\n",
       "      <td>No Cuantization</td>\n",
       "      <td>134.743522</td>\n",
       "    </tr>\n",
       "    <tr>\n",
       "      <th>1</th>\n",
       "      <td>generar pregunta</td>\n",
       "      <td>Yoga monitoring</td>\n",
       "      <td>Great! Here is a sample interview question b...</td>\n",
       "      <td>No Cuantization</td>\n",
       "      <td>284.228114</td>\n",
       "    </tr>\n",
       "    <tr>\n",
       "      <th>2</th>\n",
       "      <td>generar pregunta</td>\n",
       "      <td>Medicine expecialised in endocrinology</td>\n",
       "      <td>Great! For a Medicine specialization in Endo...</td>\n",
       "      <td>No Cuantization</td>\n",
       "      <td>259.974675</td>\n",
       "    </tr>\n",
       "    <tr>\n",
       "      <th>3</th>\n",
       "      <td>generar pregunta</td>\n",
       "      <td>Data Science</td>\n",
       "      <td>Great! Here's an interview question for a Da...</td>\n",
       "      <td>No Cuantization</td>\n",
       "      <td>264.594889</td>\n",
       "    </tr>\n",
       "    <tr>\n",
       "      <th>4</th>\n",
       "      <td>generar pregunta</td>\n",
       "      <td>Prdoduct Managing for a Coding Department</td>\n",
       "      <td>Great! Here is an interview question for a P...</td>\n",
       "      <td>No Cuantization</td>\n",
       "      <td>251.600534</td>\n",
       "    </tr>\n",
       "  </tbody>\n",
       "</table>\n",
       "</div>"
      ],
      "text/plain": [
       "             accion                                     prompt  \\\n",
       "0  generar pregunta                                Bee keeping   \n",
       "1  generar pregunta                            Yoga monitoring   \n",
       "2  generar pregunta     Medicine expecialised in endocrinology   \n",
       "3  generar pregunta                               Data Science   \n",
       "4  generar pregunta  Prdoduct Managing for a Coding Department   \n",
       "\n",
       "                                           respuesta            cuant  \\\n",
       "0    Great! Here's an interview question related ...  No Cuantization   \n",
       "1    Great! Here is a sample interview question b...  No Cuantization   \n",
       "2    Great! For a Medicine specialization in Endo...  No Cuantization   \n",
       "3    Great! Here's an interview question for a Da...  No Cuantization   \n",
       "4    Great! Here is an interview question for a P...  No Cuantization   \n",
       "\n",
       "       tiempo  \n",
       "0  134.743522  \n",
       "1  284.228114  \n",
       "2  259.974675  \n",
       "3  264.594889  \n",
       "4  251.600534  "
      ]
     },
     "execution_count": 11,
     "metadata": {},
     "output_type": "execute_result"
    }
   ],
   "source": [
    "df_preg"
   ]
  },
  {
   "cell_type": "code",
   "execution_count": 12,
   "metadata": {},
   "outputs": [],
   "source": [
    "df_preg.to_csv(\"NoCuantpreguntas.csv\", index=False)"
   ]
  },
  {
   "cell_type": "markdown",
   "metadata": {},
   "source": [
    "### Generamos respuestas"
   ]
  },
  {
   "cell_type": "markdown",
   "metadata": {},
   "source": [
    "### En mi ordenador consistenemente usando Nemo se pasa de memoria, así que se peueba con llm, Introduce un poco de BIAS de tiempo (es mas rapido que hacerlo desde el Nemo)"
   ]
  },
  {
   "cell_type": "code",
   "execution_count": 7,
   "metadata": {},
   "outputs": [],
   "source": [
    "preguntas_res = [\n",
    "  '  Great! Here is an interview question related to beekeeping:\\n\\nQuestion: Can you describe a time when you had to navigate a complex issue in your apiary? How did you approach the problem, and what was the outcome?',\n",
    "  '  Great, thank you! For a Yoga Monitoring position, here is a thought-provoking interview question:\\n\\n\"Can you share an example of how you have monitored and interpreted data from yoga sessions in the past? How did you ensure that the information was accurate and actionable for both practitioners and coaches?\"',\n",
    "  '  Great, thank you for letting me know! Here\\'s a sample interview question for an Endocrinologist position:\\n\\n\"Can you tell me about a time when you had to navigate a complex case of hormone imbalance in a patient? How did you manage to identify the root cause and develop an effective treatment plan?\"',\n",
    "  '  Great! Here\\'s an interview question for a Data Science position:\\n\\nQuestion: \"Can you describe a situation where you had to navigate a complex data set without clear documentation or structure? How did you approach the problem, and what was the outcome?\"',\n",
    "  '  Question:\\n\\n\"Can you give an example of how you would balance technical expertise and customer needs when managing a team of software developers? How do you ensure that the products developed by your team meet the highest quality standards while also addressing market demand?\"'\n",
    "  ]"
   ]
  },
  {
   "cell_type": "code",
   "execution_count": 7,
   "metadata": {},
   "outputs": [
    {
     "name": "stdout",
     "output_type": "stream",
     "text": [
      "You are a job candidate in an interview. Your task is to provide a concise, professional answer to the given interview question. Your response should demonstrate relevant skills, experience, or qualities that would make you a strong candidate for the position. Answer as a human would, with a balance of confidence and humility. Provide only the answer without any additional commentary.   Great! Here is an interview question related to beekeeping:\n",
      "\n",
      "Question: Can you describe a time when you had to navigate a complex issue in your apiary? How did you approach the problem, and what was the outcome?\n",
      "You are a job candidate in an interview. Your task is to provide a concise, professional answer to the given interview question. Your response should demonstrate relevant skills, experience, or qualities that would make you a strong candidate for the position. Answer as a human would, with a balance of confidence and humility. Provide only the answer without any additional commentary.   Great, thank you! For a Yoga Monitoring position, here is a thought-provoking interview question:\n",
      "\n",
      "\"Can you share an example of how you have monitored and interpreted data from yoga sessions in the past? How did you ensure that the information was accurate and actionable for both practitioners and coaches?\"\n",
      "You are a job candidate in an interview. Your task is to provide a concise, professional answer to the given interview question. Your response should demonstrate relevant skills, experience, or qualities that would make you a strong candidate for the position. Answer as a human would, with a balance of confidence and humility. Provide only the answer without any additional commentary.   Great, thank you for letting me know! Here's a sample interview question for an Endocrinologist position:\n",
      "\n",
      "\"Can you tell me about a time when you had to navigate a complex case of hormone imbalance in a patient? How did you manage to identify the root cause and develop an effective treatment plan?\"\n",
      "You are a job candidate in an interview. Your task is to provide a concise, professional answer to the given interview question. Your response should demonstrate relevant skills, experience, or qualities that would make you a strong candidate for the position. Answer as a human would, with a balance of confidence and humility. Provide only the answer without any additional commentary.   Great! Here's an interview question for a Data Science position:\n",
      "\n",
      "Question: \"Can you describe a situation where you had to navigate a complex data set without clear documentation or structure? How did you approach the problem, and what was the outcome?\"\n",
      "You are a job candidate in an interview. Your task is to provide a concise, professional answer to the given interview question. Your response should demonstrate relevant skills, experience, or qualities that would make you a strong candidate for the position. Answer as a human would, with a balance of confidence and humility. Provide only the answer without any additional commentary.   Question:\n",
      "\n",
      "\"Can you give an example of how you would balance technical expertise and customer needs when managing a team of software developers? How do you ensure that the products developed by your team meet the highest quality standards while also addressing market demand?\"\n"
     ]
    }
   ],
   "source": [
    "respuestas_res = []\n",
    "tiempos_res = []\n",
    "for res in preguntas_res:\n",
    "    t1 = time.time()\n",
    "    answer = await llm.emulate_answer(res)\n",
    "    t2 = time.time()\n",
    "    respuestas_res.append(answer)\n",
    "    tiempos_res.append(t2-t1)"
   ]
  },
  {
   "cell_type": "code",
   "execution_count": 8,
   "metadata": {},
   "outputs": [
    {
     "data": {
      "text/plain": [
       "(['  Absolutely! I have extensive experience managing my own apinews network and dealing with various complicated challenges therein. Once, one of our hives experienced a severe case of varroa mite infestation leading to diminished colony productivity; furthermore, excess moisture caused wax debris buildup within frames. To address this matter effectively—and after analyzing available options carefully* —I decided on integrated pest management strategies involving treatments and queen exclusion techniques simultaneously reducing mitescould compromise vital brood development areas. The implementation yielded satisfactory results over two harvest seasons due largelyto early detections allowing us quick adaptation before inflictive outcomes materialized via loss of pollinators essential for bountiful crop production!',\n",
       "  '  Of course! In my previous role as a Yoga Instructor at XYZ Wellness Center, I was responsible for monitoring and interpreting data from various yoga classes throughout each week. To ensure accuracy and actionability, I maintained detailed records of student performance, including observations on their poses, breathwork, and overall demeanor during class. These observations were then used to inform customized recommendations for improvement delivered by coaches directly after each session. Additionally, I worked closely alongside coaches to analyze specific areas of concern and develop personalized programming tailored towards addressing these issues using existing data points. Through this collaborative approach, we achieved significant improvements within our client base over several months.',\n",
       "  \"  Of course! As an experienced endocrinologist, I have encountered numerous cases of hormone imbalances and have developed a keen understanding of how these conditions can impact my patients' quality of life. One particular instance that stands out was when I evaluated a middle-aged woman who presented with symptoms of hypo thyroidism, including fatigue, weight gain, cold intolerance, and depression. After conducting comprehensive lab tests, I discovered that her TSH levels were consistently elevated, indicative of hypothyroidism. However, further investigation revealed that she also had a concurrent adrenal insufficiency, which was contributing to her hormonal imbalance. To effectively address this complexity, I collaborated closely with the patient's primary care physician to rule out other potential causes of her condition, such as a pituitary tumor or autoimmune disorder. Following a thorough diagnostic workup, we initiated therapy involving both levothyroxine and corticosteroids. By tailoring our approach to address not just one hormonal axis but two interconnected ones, we were able to remarkably improve the patient's clinical status over several months. Her energy level significantly increased; her mood improved substantially, and she gained back some weight in a healthy manner while staying on medication as prescribed. Noteworthily throughout this process, maintaining robust communication channels between myself, the patient and their significant others, along with empathetically acknowledging each person's concerns helped build credibility upon trust during what could otherwise be trying times for all involved – factors critical when dealing delicate situations where precision matters most.\",\n",
       "  '  Sure! In my previous role as a Data Scientist at XYZ Corporation, I recall working on a project where we received a large dataset containing various types of customer behavioral information from multiple sources. Unfortunately, despite rigorous attempts by our vendor partner during pre-processing, critical metadata such as time series labels were absent due to technical limitations. It took us weeks to investigate possible solutions while juggling prioritized tasks within the ever-evolving framework of the core product requirements. I successfully leveraged statistical techniques (Time Series Decomposition) on both extracted features & original logs to perform necessary transformations for analysis using Python libraries (StaDoop) integrating SQL capabilities – this resulted in a well-structured format crucial for our machine learning models and generated optimal interpretations through visualizations representing overall user engagement trends. All this allowed stakeholders to validate business hypotheses related decisions influencing buyer actions during marketing campaigns directly impacted company performance levels leading up sales conversions ultimately driving revenue growth. Overall, understanding the essentials involved in complex datasets enabled smooth execution despite challenges encountered – a valuable lesson gained further reinforced methodical reasoning across diverse projects in data intelligence contextually, making me a suitable choice fit in your organization seeking proficient expertise regarding this precise function.\"',\n",
       "  \"  Absolutely! In my current role at XYZ Company, I have consistently demonstrated the ability to effectively balance technical expertise and customer needs when leading cross-functional teams. To achieve this delicate balance, I employ several strategies. Firstly, I prioritize building deep relationships with key stakeholders, including product owners, engineers, designers, and customers themselves. This enables me to fully understand their unique perspectives on what constitutes high-quality deliverables, both from a functional and user experience standpoint. Secondly, I foster open communication channels within our development teams. Encouraging collaboration and idea-sharing amongst my charges allows us to leverage individual strengths towards achieving common goals–developing solutions that not merely meet but exceed expectations, whether set internally or externally. Thirdly & Lastly., I continuously monitor progress toward established metrics using agile methodologies – regularly inspecting work environments where needed rather than simply iterating based upon assumptions; providing early warnings system around potential roadblocks via careful assessment capabilities alongside realistic forecasts adapted accordingly during everchanging circumstances involving evolving technologies as well business conditions (market demands). By implementing these approaches repeatedly across diverse projects here's just one instance), resulting improved overall product satisfaction ratings among users throughout entire organizations alike thanks largely because we remained adaptable yet remained consistent core commitments toward producing outstanding caliber outputs responsive particular clients' immediate interests – encompassed thorough exploration iterations before delivery decisions had reached finalization stage itself—showcasing efficiency balancing dual imperatives simultaneously under strict timelines/restrictions imposed various contextually (client requests coupled sometimes limited scope allowed means accommodate those factors.)\"],\n",
       " [361.0281867980957,\n",
       "  310.54937052726746,\n",
       "  768.757887840271,\n",
       "  817.0580422878265,\n",
       "  1546.3233919143677])"
      ]
     },
     "execution_count": 8,
     "metadata": {},
     "output_type": "execute_result"
    }
   ],
   "source": [
    "respuestas_res, tiempos_res"
   ]
  },
  {
   "cell_type": "code",
   "execution_count": 10,
   "metadata": {},
   "outputs": [],
   "source": [
    "df_res[\"accion\"] = [\"generar respuesta\" for i in range(len(tiempos_res))]\n",
    "df_res[\"prompt\"] = preguntas_res\n",
    "df_res[\"respuesta\"] = respuestas_res\n",
    "df_res[\"cuant\"] = [\"No Cuantization\" for i in range(len(tiempos_res))]\n",
    "df_res[\"tiempo\"] = tiempos_res"
   ]
  },
  {
   "cell_type": "code",
   "execution_count": 11,
   "metadata": {},
   "outputs": [
    {
     "data": {
      "text/html": [
       "<div>\n",
       "<style scoped>\n",
       "    .dataframe tbody tr th:only-of-type {\n",
       "        vertical-align: middle;\n",
       "    }\n",
       "\n",
       "    .dataframe tbody tr th {\n",
       "        vertical-align: top;\n",
       "    }\n",
       "\n",
       "    .dataframe thead th {\n",
       "        text-align: right;\n",
       "    }\n",
       "</style>\n",
       "<table border=\"1\" class=\"dataframe\">\n",
       "  <thead>\n",
       "    <tr style=\"text-align: right;\">\n",
       "      <th></th>\n",
       "      <th>accion</th>\n",
       "      <th>prompt</th>\n",
       "      <th>respuesta</th>\n",
       "      <th>cuant</th>\n",
       "      <th>tiempo</th>\n",
       "    </tr>\n",
       "  </thead>\n",
       "  <tbody>\n",
       "    <tr>\n",
       "      <th>0</th>\n",
       "      <td>generar respuesta</td>\n",
       "      <td>Great! Here is an interview question related...</td>\n",
       "      <td>Absolutely! I have extensive experience mana...</td>\n",
       "      <td>No Cuantization</td>\n",
       "      <td>361.028187</td>\n",
       "    </tr>\n",
       "    <tr>\n",
       "      <th>1</th>\n",
       "      <td>generar respuesta</td>\n",
       "      <td>Great, thank you! For a Yoga Monitoring posi...</td>\n",
       "      <td>Of course! In my previous role as a Yoga Ins...</td>\n",
       "      <td>No Cuantization</td>\n",
       "      <td>310.549371</td>\n",
       "    </tr>\n",
       "    <tr>\n",
       "      <th>2</th>\n",
       "      <td>generar respuesta</td>\n",
       "      <td>Great, thank you for letting me know! Here's...</td>\n",
       "      <td>Of course! As an experienced endocrinologist...</td>\n",
       "      <td>No Cuantization</td>\n",
       "      <td>768.757888</td>\n",
       "    </tr>\n",
       "    <tr>\n",
       "      <th>3</th>\n",
       "      <td>generar respuesta</td>\n",
       "      <td>Great! Here's an interview question for a Da...</td>\n",
       "      <td>Sure! In my previous role as a Data Scientis...</td>\n",
       "      <td>No Cuantization</td>\n",
       "      <td>817.058042</td>\n",
       "    </tr>\n",
       "    <tr>\n",
       "      <th>4</th>\n",
       "      <td>generar respuesta</td>\n",
       "      <td>Question:\\n\\n\"Can you give an example of how...</td>\n",
       "      <td>Absolutely! In my current role at XYZ Compan...</td>\n",
       "      <td>No Cuantization</td>\n",
       "      <td>1546.323392</td>\n",
       "    </tr>\n",
       "  </tbody>\n",
       "</table>\n",
       "</div>"
      ],
      "text/plain": [
       "              accion                                             prompt  \\\n",
       "0  generar respuesta    Great! Here is an interview question related...   \n",
       "1  generar respuesta    Great, thank you! For a Yoga Monitoring posi...   \n",
       "2  generar respuesta    Great, thank you for letting me know! Here's...   \n",
       "3  generar respuesta    Great! Here's an interview question for a Da...   \n",
       "4  generar respuesta    Question:\\n\\n\"Can you give an example of how...   \n",
       "\n",
       "                                           respuesta            cuant  \\\n",
       "0    Absolutely! I have extensive experience mana...  No Cuantization   \n",
       "1    Of course! In my previous role as a Yoga Ins...  No Cuantization   \n",
       "2    Of course! As an experienced endocrinologist...  No Cuantization   \n",
       "3    Sure! In my previous role as a Data Scientis...  No Cuantization   \n",
       "4    Absolutely! In my current role at XYZ Compan...  No Cuantization   \n",
       "\n",
       "        tiempo  \n",
       "0   361.028187  \n",
       "1   310.549371  \n",
       "2   768.757888  \n",
       "3   817.058042  \n",
       "4  1546.323392  "
      ]
     },
     "execution_count": 11,
     "metadata": {},
     "output_type": "execute_result"
    }
   ],
   "source": [
    "df_res"
   ]
  },
  {
   "cell_type": "code",
   "execution_count": 12,
   "metadata": {},
   "outputs": [],
   "source": [
    "df_res.to_csv(\"NoCuantrespuestas.csv\", index=False)"
   ]
  },
  {
   "cell_type": "markdown",
   "metadata": {},
   "source": [
    "### Generamos evaluaciones"
   ]
  },
  {
   "cell_type": "markdown",
   "metadata": {},
   "source": [
    "### Doble truco, usar LLM y recortar la uiltima pregunta para evitar desbordamientos"
   ]
  },
  {
   "cell_type": "code",
   "execution_count": 8,
   "metadata": {},
   "outputs": [],
   "source": [
    "respuestas = [\n",
    "    \"Question: \" + preguntas_res[0] + \"\\nAnswer: \" + \"I dont want to \", # se niega\n",
    "    \"Question: \" + preguntas_res[1] + \"\\nAnswer: \" + \"I dont know\", # no sabe\n",
    "    \"Question: \" + preguntas_res[2] + \"\\nAnswer: \" + \"Medicine can be used for doing X and Y\", # on topic pero muy poco\n",
    "    # respuestas del propio bot\n",
    "    \"Question: \" + preguntas_res[3] + \"\\nAnswer: \" + \"Absolutely! Here's my answer:\\n\\nIn my previous role at XYZ Enterprises, I faced a challenging situation where I had to navigate a large and complex dataset without proper documentation or structure. The dataset consisted of various types of files, including CSV, JSON, and Excel sheets, and it was collected from different sources over several years. Despite the lack of clear documentation, I was able to successfully navigate the data by following a systematic approach.\\n\\nFirstly, I started by organizing the datasets alphabetically based on the file names, which helped me identify the main categories of data. Next, I used metadata to link the various files together and created a simplified naming convention to facilitate easy identification. This allowed me to gain insights into the structure and content of each file, which ultimately led to the development of a visual representation using Tableau software.\\n\\nThrough this process, I identified key trends and patterns within the data sets, such as customer preferences and buying behaviors, which were not explicitly documented. By visualizing these patterns, I could communicate my findings effectively to stakeholders across the organization, resulting in informative decisions that improved overall business performance.\\n\\nThrough this experience, I learned the importance of staying proactive, creative, and patient when dealing with complex data sets, especially without proper documentation or guidance. I believe my ability to work independently, think critically, and deliver actionable results will serve me well in this role as a Data Scientist\",\n",
    "    \"Question: \" + preguntas_res[4] + \"\\nAnswer: \" + \"Of course! Here's my response:\\n\\nAs a seasoned technology leader with over a decade of experience managing software development teams, I have consistently demonstrated my ability to strike a delicate balance between technical expertise and customer needs. To achieve this, I employ several strategies:\\n\\n1. Prioritize clear communication: Through regular check-ins and progress updates, I maintain open lines of communication with both my technical and non-technical stakeholders. By ensuring everyone is on the same page, we can align on project goals and objectives while continuously soliciting feedback to iterate and improve upon our solutions.\\n2. Foster a culture of collaboration: Encouraging collaboration among my team members allows us to pool diverse perspectives and leverage each person's strengths. This approach not only fosters innovation but also helps to create more robust and well-rounded product offerings that cater to evolving market demands.\\n3. Lead by example: As a hands-on manager, I lead projects side-by-side with my team rather than relegating myself solely to a leadership role. By remaining deeply involved in the development process, I set the bar high for technical excellence while modeling collaborative behavior for my team.\\n4. Implement rigorous quality assurance processes: Before launching new products or features, we conduct thorough QA testing to ensure they adhere to industry best practices and client expectations. Conducting periodic code reviews and security audits maintains quality standards throughout the entire product lifecycle.\"\n",
    "]"
   ]
  },
  {
   "cell_type": "code",
   "execution_count": 9,
   "metadata": {},
   "outputs": [
    {
     "name": "stdout",
     "output_type": "stream",
     "text": [
      "You are an expert hiring manager evaluating candidates' responses to interview questions. Your task is to assess the given answer based on its relevance, accuracy, and effectiveness. Use the following scale for evaluation:\n",
      "\n",
      "0 - Refuses to answer\n",
      "1 - Poor: Answer is off-topic or inadequate\n",
      "2 - Fair: Answer is somewhat relevant but lacks depth or clarity\n",
      "3 - Good: Answer is relevant and demonstrates basic understanding\n",
      "4 - Very Good: Answer is well-articulated and shows strong relevant skills or experience\n",
      "5 - Excellent: Answer is exceptional, demonstrating deep understanding and outstanding fit for the role\n",
      "\n",
      "Provide your evaluation in the following format:\n",
      "Score: [0-5]\n",
      "Brief explanation: [Your concise assessment of the answer's strengths and weaknesses with humanlike writting]\n",
      "\n",
      " Question:   Great! Here is an interview question related to beekeeping:\n",
      "\n",
      "Question: Can you describe a time when you had to navigate a complex issue in your apiary? How did you approach the problem, and what was the outcome?\n",
      "Answer: I dont want to \n",
      "You are an expert hiring manager evaluating candidates' responses to interview questions. Your task is to assess the given answer based on its relevance, accuracy, and effectiveness. Use the following scale for evaluation:\n",
      "\n",
      "0 - Refuses to answer\n",
      "1 - Poor: Answer is off-topic or inadequate\n",
      "2 - Fair: Answer is somewhat relevant but lacks depth or clarity\n",
      "3 - Good: Answer is relevant and demonstrates basic understanding\n",
      "4 - Very Good: Answer is well-articulated and shows strong relevant skills or experience\n",
      "5 - Excellent: Answer is exceptional, demonstrating deep understanding and outstanding fit for the role\n",
      "\n",
      "Provide your evaluation in the following format:\n",
      "Score: [0-5]\n",
      "Brief explanation: [Your concise assessment of the answer's strengths and weaknesses with humanlike writting]\n",
      "\n",
      " Question:   Great, thank you! For a Yoga Monitoring position, here is a thought-provoking interview question:\n",
      "\n",
      "\"Can you share an example of how you have monitored and interpreted data from yoga sessions in the past? How did you ensure that the information was accurate and actionable for both practitioners and coaches?\"\n",
      "Answer: I dont know\n",
      "You are an expert hiring manager evaluating candidates' responses to interview questions. Your task is to assess the given answer based on its relevance, accuracy, and effectiveness. Use the following scale for evaluation:\n",
      "\n",
      "0 - Refuses to answer\n",
      "1 - Poor: Answer is off-topic or inadequate\n",
      "2 - Fair: Answer is somewhat relevant but lacks depth or clarity\n",
      "3 - Good: Answer is relevant and demonstrates basic understanding\n",
      "4 - Very Good: Answer is well-articulated and shows strong relevant skills or experience\n",
      "5 - Excellent: Answer is exceptional, demonstrating deep understanding and outstanding fit for the role\n",
      "\n",
      "Provide your evaluation in the following format:\n",
      "Score: [0-5]\n",
      "Brief explanation: [Your concise assessment of the answer's strengths and weaknesses with humanlike writting]\n",
      "\n",
      " Question:   Great, thank you for letting me know! Here's a sample interview question for an Endocrinologist position:\n",
      "\n",
      "\"Can you tell me about a time when you had to navigate a complex case of hormone imbalance in a patient? How did you manage to identify the root cause and develop an effective treatment plan?\"\n",
      "Answer: Medicine can be used for doing X and Y\n",
      "You are an expert hiring manager evaluating candidates' responses to interview questions. Your task is to assess the given answer based on its relevance, accuracy, and effectiveness. Use the following scale for evaluation:\n",
      "\n",
      "0 - Refuses to answer\n",
      "1 - Poor: Answer is off-topic or inadequate\n",
      "2 - Fair: Answer is somewhat relevant but lacks depth or clarity\n",
      "3 - Good: Answer is relevant and demonstrates basic understanding\n",
      "4 - Very Good: Answer is well-articulated and shows strong relevant skills or experience\n",
      "5 - Excellent: Answer is exceptional, demonstrating deep understanding and outstanding fit for the role\n",
      "\n",
      "Provide your evaluation in the following format:\n",
      "Score: [0-5]\n",
      "Brief explanation: [Your concise assessment of the answer's strengths and weaknesses with humanlike writting]\n",
      "\n",
      " Question:   Great! Here's an interview question for a Data Science position:\n",
      "\n",
      "Question: \"Can you describe a situation where you had to navigate a complex data set without clear documentation or structure? How did you approach the problem, and what was the outcome?\"\n",
      "Answer: Absolutely! Here's my answer:\n",
      "\n",
      "In my previous role at XYZ Enterprises, I faced a challenging situation where I had to navigate a large and complex dataset without proper documentation or structure. The dataset consisted of various types of files, including CSV, JSON, and Excel sheets, and it was collected from different sources over several years. Despite the lack of clear documentation, I was able to successfully navigate the data by following a systematic approach.\n",
      "\n",
      "Firstly, I started by organizing the datasets alphabetically based on the file names, which helped me identify the main categories of data. Next, I used metadata to link the various files together and created a simplified naming convention to facilitate easy identification. This allowed me to gain insights into the structure and content of each file, which ultimately led to the development of a visual representation using Tableau software.\n",
      "\n",
      "Through this process, I identified key trends and patterns within the data sets, such as customer preferences and buying behaviors, which were not explicitly documented. By visualizing these patterns, I could communicate my findings effectively to stakeholders across the organization, resulting in informative decisions that improved overall business performance.\n",
      "\n",
      "Through this experience, I learned the importance of staying proactive, creative, and patient when dealing with complex data sets, especially without proper documentation or guidance. I believe my ability to work independently, think critically, and deliver actionable results will serve me well in this role as a Data Scientist\n",
      "You are an expert hiring manager evaluating candidates' responses to interview questions. Your task is to assess the given answer based on its relevance, accuracy, and effectiveness. Use the following scale for evaluation:\n",
      "\n",
      "0 - Refuses to answer\n",
      "1 - Poor: Answer is off-topic or inadequate\n",
      "2 - Fair: Answer is somewhat relevant but lacks depth or clarity\n",
      "3 - Good: Answer is relevant and demonstrates basic understanding\n",
      "4 - Very Good: Answer is well-articulated and shows strong relevant skills or experience\n",
      "5 - Excellent: Answer is exceptional, demonstrating deep understanding and outstanding fit for the role\n",
      "\n",
      "Provide your evaluation in the following format:\n",
      "Score: [0-5]\n",
      "Brief explanation: [Your concise assessment of the answer's strengths and weaknesses with humanlike writting]\n",
      "\n",
      " Question:   Question:\n",
      "\n",
      "\"Can you give an example of how you would balance technical expertise and customer needs when managing a team of software developers? How do you ensure that the products developed by your team meet the highest quality standards while also addressing market demand?\"\n",
      "Answer: Of course! Here's my response:\n",
      "\n",
      "As a seasoned technology leader with over a decade of experience managing software development teams, I have consistently demonstrated my ability to strike a delicate balance between technical expertise and customer needs. To achieve this, I employ several strategies:\n",
      "\n",
      "1. Prioritize clear communication: Through regular check-ins and progress updates, I maintain open lines of communication with both my technical and non-technical stakeholders. By ensuring everyone is on the same page, we can align on project goals and objectives while continuously soliciting feedback to iterate and improve upon our solutions.\n",
      "2. Foster a culture of collaboration: Encouraging collaboration among my team members allows us to pool diverse perspectives and leverage each person's strengths. This approach not only fosters innovation but also helps to create more robust and well-rounded product offerings that cater to evolving market demands.\n",
      "3. Lead by example: As a hands-on manager, I lead projects side-by-side with my team rather than relegating myself solely to a leadership role. By remaining deeply involved in the development process, I set the bar high for technical excellence while modeling collaborative behavior for my team.\n",
      "4. Implement rigorous quality assurance processes: Before launching new products or features, we conduct thorough QA testing to ensure they adhere to industry best practices and client expectations. Conducting periodic code reviews and security audits maintains quality standards throughout the entire product lifecycle.\n"
     ]
    }
   ],
   "source": [
    "evaliuaciones = []\n",
    "tiempos_eval = []\n",
    "for res in respuestas:\n",
    "    t1 = time.time()\n",
    "    answer = await llm.punctuate_answer(res)\n",
    "    t2 = time.time()\n",
    "    evaliuaciones.append(answer)\n",
    "    tiempos_eval.append(t2-t1)"
   ]
  },
  {
   "cell_type": "code",
   "execution_count": 10,
   "metadata": {},
   "outputs": [
    {
     "data": {
      "text/plain": [
       "(['  Score: 1\\nBrief explanation: The candidate refused to answer the question, which indicates that they may not have any experiences to draw from or may feel uncomfortable discussing their abilities in this area. Lack of relevant information makes it difficult to evaluate their potential to handle complex issues in an apiary.',\n",
       "  '  Score: 0\\n\\nExplanation: Unfortunately, this candidate refused to answer the question directly. They were unable or unwilling to provide any examples of their previous experience monitoring and interpreting data from yoga sessions, which is crucial for this role as a Yoga Monitoring professional. This lack of response makes it challenging for me to evaluate their qualifications and potential contributions to the team.',\n",
       "  '  Score: 1\\n\\nBrief explanation: The candidate provides little context or specific examples related to endocrine disorders, instead discussing the use of medicine in general terms. This response does not demonstrate any depth of knowledge or ability to connect their past experiences to this particular job opening. Additionally, it fails to address how they would handle complex cases of hormone imbalances and provide evidence of identifying and managing such issues effectively during their practice as an endocrinologist.',\n",
       "  '  Score: 4 (Very Good)\\n\\nExplanation:\\nThe candidate provides a comprehensive and well-structured response to the question, demonstrating their ability to navigate complex data sets without clear documentation. They use practical examples from their prior experience and provide concrete details about how they approached the challenge, including organizing the data alphabetically, creating a simpler naming Convention, utilizing metadata, and Visualizing the results through Tableau.\\n\\nTheir solution seems effective, highlighted by realistic accomplishments like identifying important trends and communicated effectively Insightful finds to Stakeholcer across the company. Additionally, the applicant showcases their knowledge of valuable skills possessed working Independently, thinking Criticaliy and delivers impactful Results.\\nOnly minor improvements necessary, such as providing some context on why particular approaches worked better than others or offering insightsinto potential pitfalls while addressing such complicated data Sets. Overall, the candidate presents themselves confidently during interviews As demonstrated an excellent aptitude For the tasks required Of A Datascientists',\n",
       "  '  Score: 4 (Very good)\\n\\nExplanation: The candidate provides a comprehensive and insightful answer to the question, showcasing their expertise in striking a balance between technical expertise and customer needs as a technology leader. They highlight various effective strategies such as prioritizing clear communication, fostering collaboration, leading by example, and implementing rigorous quality assurance processes to deliver high-quality products meeting market demands. Their use of specific examples and actionable steps reinforces their claims, making it clear why they excel at managing software development teams. Overall, the answer demonstrate\\'s the candidate\\'s depth of knowledge and management abilities, placing them amongst those who are \"very good\" in balancing these critical factors effectively'],\n",
       " [149.8109564781189,\n",
       "  173.73004841804504,\n",
       "  210.12171602249146,\n",
       "  452.26654839515686,\n",
       "  335.52738308906555])"
      ]
     },
     "execution_count": 10,
     "metadata": {},
     "output_type": "execute_result"
    }
   ],
   "source": [
    "evaliuaciones, tiempos_eval"
   ]
  },
  {
   "cell_type": "code",
   "execution_count": 11,
   "metadata": {},
   "outputs": [],
   "source": [
    "df_eval[\"accion\"] = [\"generar evaluacion\" for i in range(len(topicos))]\n",
    "df_eval[\"prompt\"] = respuestas\n",
    "df_eval[\"respuesta\"] = evaliuaciones\n",
    "df_eval[\"cuant\"] = [\"No Cuantization\" for i in range(len(topicos))]\n",
    "df_eval[\"tiempo\"] = tiempos_eval"
   ]
  },
  {
   "cell_type": "code",
   "execution_count": 12,
   "metadata": {},
   "outputs": [
    {
     "data": {
      "text/html": [
       "<div>\n",
       "<style scoped>\n",
       "    .dataframe tbody tr th:only-of-type {\n",
       "        vertical-align: middle;\n",
       "    }\n",
       "\n",
       "    .dataframe tbody tr th {\n",
       "        vertical-align: top;\n",
       "    }\n",
       "\n",
       "    .dataframe thead th {\n",
       "        text-align: right;\n",
       "    }\n",
       "</style>\n",
       "<table border=\"1\" class=\"dataframe\">\n",
       "  <thead>\n",
       "    <tr style=\"text-align: right;\">\n",
       "      <th></th>\n",
       "      <th>accion</th>\n",
       "      <th>prompt</th>\n",
       "      <th>respuesta</th>\n",
       "      <th>cuant</th>\n",
       "      <th>tiempo</th>\n",
       "    </tr>\n",
       "  </thead>\n",
       "  <tbody>\n",
       "    <tr>\n",
       "      <th>0</th>\n",
       "      <td>generar evaluacion</td>\n",
       "      <td>Question:   Great! Here is an interview questi...</td>\n",
       "      <td>Score: 1\\nBrief explanation: The candidate r...</td>\n",
       "      <td>No Cuantization</td>\n",
       "      <td>149.810956</td>\n",
       "    </tr>\n",
       "    <tr>\n",
       "      <th>1</th>\n",
       "      <td>generar evaluacion</td>\n",
       "      <td>Question:   Great, thank you! For a Yoga Monit...</td>\n",
       "      <td>Score: 0\\n\\nExplanation: Unfortunately, this...</td>\n",
       "      <td>No Cuantization</td>\n",
       "      <td>173.730048</td>\n",
       "    </tr>\n",
       "    <tr>\n",
       "      <th>2</th>\n",
       "      <td>generar evaluacion</td>\n",
       "      <td>Question:   Great, thank you for letting me kn...</td>\n",
       "      <td>Score: 1\\n\\nBrief explanation: The candidate...</td>\n",
       "      <td>No Cuantization</td>\n",
       "      <td>210.121716</td>\n",
       "    </tr>\n",
       "    <tr>\n",
       "      <th>3</th>\n",
       "      <td>generar evaluacion</td>\n",
       "      <td>Question:   Great! Here's an interview questio...</td>\n",
       "      <td>Score: 4 (Very Good)\\n\\nExplanation:\\nThe ca...</td>\n",
       "      <td>No Cuantization</td>\n",
       "      <td>452.266548</td>\n",
       "    </tr>\n",
       "    <tr>\n",
       "      <th>4</th>\n",
       "      <td>generar evaluacion</td>\n",
       "      <td>Question:   Question:\\n\\n\"Can you give an exam...</td>\n",
       "      <td>Score: 4 (Very good)\\n\\nExplanation: The can...</td>\n",
       "      <td>No Cuantization</td>\n",
       "      <td>335.527383</td>\n",
       "    </tr>\n",
       "  </tbody>\n",
       "</table>\n",
       "</div>"
      ],
      "text/plain": [
       "               accion                                             prompt  \\\n",
       "0  generar evaluacion  Question:   Great! Here is an interview questi...   \n",
       "1  generar evaluacion  Question:   Great, thank you! For a Yoga Monit...   \n",
       "2  generar evaluacion  Question:   Great, thank you for letting me kn...   \n",
       "3  generar evaluacion  Question:   Great! Here's an interview questio...   \n",
       "4  generar evaluacion  Question:   Question:\\n\\n\"Can you give an exam...   \n",
       "\n",
       "                                           respuesta            cuant  \\\n",
       "0    Score: 1\\nBrief explanation: The candidate r...  No Cuantization   \n",
       "1    Score: 0\\n\\nExplanation: Unfortunately, this...  No Cuantization   \n",
       "2    Score: 1\\n\\nBrief explanation: The candidate...  No Cuantization   \n",
       "3    Score: 4 (Very Good)\\n\\nExplanation:\\nThe ca...  No Cuantization   \n",
       "4    Score: 4 (Very good)\\n\\nExplanation: The can...  No Cuantization   \n",
       "\n",
       "       tiempo  \n",
       "0  149.810956  \n",
       "1  173.730048  \n",
       "2  210.121716  \n",
       "3  452.266548  \n",
       "4  335.527383  "
      ]
     },
     "execution_count": 12,
     "metadata": {},
     "output_type": "execute_result"
    }
   ],
   "source": [
    "df_eval"
   ]
  },
  {
   "cell_type": "code",
   "execution_count": 13,
   "metadata": {},
   "outputs": [],
   "source": [
    "df_eval.to_csv(\"NoCuantEvals.csv\", index=False)"
   ]
  },
  {
   "cell_type": "markdown",
   "metadata": {},
   "source": [
    "## El test de Integración se pasa, se  adhieren al contexto según lo esperado\n",
    "\n",
    "Aunque tengan tendencias todavía de LLM (por ejemplo empezar con \"Thought Provoking\")"
   ]
  }
 ],
 "metadata": {
  "kernelspec": {
   "display_name": "AIWantTheJob",
   "language": "python",
   "name": "python3"
  },
  "language_info": {
   "codemirror_mode": {
    "name": "ipython",
    "version": 3
   },
   "file_extension": ".py",
   "mimetype": "text/x-python",
   "name": "python",
   "nbconvert_exporter": "python",
   "pygments_lexer": "ipython3",
   "version": "3.11.9"
  }
 },
 "nbformat": 4,
 "nbformat_minor": 2
}
